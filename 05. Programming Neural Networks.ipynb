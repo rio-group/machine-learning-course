{
 "cells": [
  {
   "cell_type": "markdown",
   "metadata": {},
   "source": [
    "<div align='left' style=\"width:400px;height:120px;overflow:hidden;\">\n",
    "<img align='left' style='display: block;height: 92%' src='imgs/riotext.png' alt='RIO logo' title='RIO logo'/>\n",
    "</div>"
   ]
  },
  {
   "cell_type": "markdown",
   "metadata": {},
   "source": [
    "### Machine Learning\n",
    "# 5. Programming Neural Networks with Theano\n",
    "$\\renewcommand{\\vec}[1]{\\boldsymbol{#1}}$"
   ]
  },
  {
   "cell_type": "markdown",
   "metadata": {},
   "source": [
    "### About the notebook/slides\n",
    "\n",
    "* The slides are _programmed_ as a [Jupyter](http://jupyter.org)/[IPython](https://ipython.org/) notebook.\n",
    "* **Feel free to try them and experiment on your own by launching the notebooks.**\n",
    "\n",
    "* You can run the notebook online: [![Binder](https://mybinder.org/badge.svg)](https://mybinder.org/v2/gh/rio-group/machine-learning-course/master)"
   ]
  },
  {
   "cell_type": "code",
   "execution_count": 1,
   "metadata": {},
   "outputs": [],
   "source": [
    "import os, sys, gzip\n",
    "import six.moves.cPickle as pickle\n",
    "\n",
    "import numpy\n",
    "\n",
    "import theano\n",
    "import theano.tensor as T\n",
    "import theano.d3viz as d3viz\n",
    "\n",
    "from IPython.display import Image, SVG, IFrame\n",
    "\n",
    "import matplotlib as mpl\n",
    "import matplotlib.pyplot as plt\n",
    "import matplotlib.cm as cm\n",
    "\n",
    "from mpl_toolkits.mplot3d import Axes3D"
   ]
  },
  {
   "cell_type": "code",
   "execution_count": 2,
   "metadata": {},
   "outputs": [],
   "source": [
    "import seaborn\n",
    "seaborn.set(style='whitegrid')\n",
    "seaborn.set_context('talk')\n",
    "\n",
    "%matplotlib inline\n",
    "%config InlineBackend.figure_format = 'retina'"
   ]
  },
  {
   "cell_type": "markdown",
   "metadata": {},
   "source": [
    "# What about `theano`?\n",
    "\n",
    "* Mathematical symbolic expression compiler\n",
    "  * Easy to define expressions\n",
    "  * Expressions are similar numpy's syntax and semantics\n",
    "* Possible to manipulate those expressions\n",
    "  * Substitutions\n",
    "  * **Gradient**, R operator\n",
    "* Stability optimizations\n",
    "Fast to compute values for those expressions\n",
    "* Speed optimizations\n",
    "* Use fast back-ends (GPUs (CUDA), BLAS, custom C code)\n",
    "* Tools to inspect and check for correctness"
   ]
  },
  {
   "cell_type": "markdown",
   "metadata": {},
   "source": [
    "Theano defines a *language*, a *compiler*, and a *library*.\n",
    "  * Define a symbolic expression\n",
    "  * Compile a function that can compute values\n",
    "  * Execute that function on numeric values"
   ]
  },
  {
   "cell_type": "markdown",
   "metadata": {},
   "source": [
    "The graph that represents mathematical operations is bipartite, and has two sorts of nodes:\n",
    "* **Variable nodes**, that represent data\n",
    "* **Apply nodes**, that represent the application of mathematical operations \n",
    "\n",
    "In practice:\n",
    "* Variables values are used for the graph inputs and outputs, and intermediate values\n",
    "* Variables will hold data during the function execution phase\n",
    "* An Apply node has inputs and outputs, which are Variables\n",
    "* An Apply node represents the specific application of an Op on these input variables\n",
    "* The same Variable can be used as inputs by several Apply nodes"
   ]
  },
  {
   "cell_type": "markdown",
   "metadata": {},
   "source": [
    "## Shared variables\n",
    "* Symbolic variables, with a value associated to them\n",
    "*  The value is persistent across function calls\n",
    "*   The value is shared among all functions\n",
    "*   The variable has to be an input variable\n",
    "*   The variable is an implicit input to all functions using it"
   ]
  },
  {
   "cell_type": "markdown",
   "metadata": {},
   "source": [
    "An optimization replaces a part of the graph with different nodes.\n",
    "* The types of the replaced nodes have to match\n",
    "* Merge equivalent computations\n",
    "* Simplify expressions: $\\frac{x}{x}$ becomes $1$\n",
    "* Numerical stability: For example, gives the right answer for  $\\log(1 + x)$  even if $x$ is really small.\n",
    "* Insert in-place an destructive versions of operations\n",
    "* Use specialized, high-performance versions (Elemwise loop fusion, GEMV,\n",
    "GEMM)\n",
    "* Shape inference\n",
    "* Constant folding\n",
    "* Transfer to GPU"
   ]
  },
  {
   "cell_type": "markdown",
   "metadata": {},
   "source": [
    "## Using GPUs\n",
    "\n",
    "Theano tries to make the use of GPUs as transparent as possible,\n",
    "* Currently limited to `float32` `dtype`\n",
    "* Not easy to interact in Python with `CudaNdarrays`\n",
    "\n",
    "Select GPU by setting the device  flag to ’gpu’ or 'gpu{0,1,2,...}'.\n",
    "* All `float32` shared variables will be created in GPU memory\n",
    "* Enables optimizations moving supported operations to GPU\n",
    "\n",
    "You want to make sure you use `float32`\n",
    "* `floatX` is the default type of all tensors and sparse matrices.\n",
    "* By default, aliased to ’float64’ for double precision on CPU\n",
    "* Can be set to `float32` by a configuration  flag\n",
    "* You can always explicitly use `T.fmatrix()` or `T.matrix(dtype=’float32’)`"
   ]
  },
  {
   "cell_type": "markdown",
   "metadata": {},
   "source": [
    "Configuration  flags can be set in a couple of ways:\n",
    "* In the shell:\n",
    "```bash\n",
    "$ THEANO_FLAGS=device=gpu0,floatX=float32\n",
    "```\n",
    "* In Python:\n",
    "```python\n",
    "theano.config.device = 'gpu0'\n",
    "theano.config.floatX = 'float32'\n",
    "```\n",
    "* In the `.theanorc` configuration file:\n",
    "```\n",
    "[global]\n",
    "    device = gpu0\n",
    "    floatX = float32\n",
    "```"
   ]
  },
  {
   "cell_type": "markdown",
   "metadata": {},
   "source": [
    "# A first contact with `theano`"
   ]
  },
  {
   "cell_type": "markdown",
   "metadata": {},
   "source": [
    "Defining theano variables and expressions"
   ]
  },
  {
   "cell_type": "code",
   "execution_count": 3,
   "metadata": {},
   "outputs": [],
   "source": [
    "x = T.dscalar('x')\n",
    "y = x ** 2"
   ]
  },
  {
   "cell_type": "markdown",
   "metadata": {},
   "source": [
    "You might need to install `pydot` by running `pip install pydot`."
   ]
  },
  {
   "cell_type": "code",
   "execution_count": null,
   "metadata": {},
   "outputs": [],
   "source": [
    "d3viz.d3viz(y, 'figs'+os.sep+'y.html')\n",
    "IFrame('figs'+os.sep+'y.html', width=600, height=400)"
   ]
  },
  {
   "cell_type": "code",
   "execution_count": 4,
   "metadata": {},
   "outputs": [
    {
     "data": {
      "text/html": [
       "\n",
       "        <iframe\n",
       "            width=\"600\"\n",
       "            height=\"400\"\n",
       "            src=\"figs/y.html\"\n",
       "            frameborder=\"0\"\n",
       "            allowfullscreen\n",
       "        ></iframe>\n",
       "        "
      ],
      "text/plain": [
       "<IPython.lib.display.IFrame at 0x1182d3278>"
      ]
     },
     "execution_count": 4,
     "metadata": {},
     "output_type": "execute_result"
    }
   ],
   "source": [
    "IFrame('figs'+os.sep+'y.html', width=600, height=400)"
   ]
  },
  {
   "cell_type": "markdown",
   "metadata": {},
   "source": [
    "Compiling the expression as a function"
   ]
  },
  {
   "cell_type": "code",
   "execution_count": 5,
   "metadata": {},
   "outputs": [],
   "source": [
    "f = theano.function(inputs=[x], outputs=y)"
   ]
  },
  {
   "cell_type": "markdown",
   "metadata": {},
   "source": [
    "Using the function"
   ]
  },
  {
   "cell_type": "code",
   "execution_count": 6,
   "metadata": {},
   "outputs": [
    {
     "data": {
      "text/plain": [
       "array(16.0)"
      ]
     },
     "execution_count": 6,
     "metadata": {},
     "output_type": "execute_result"
    }
   ],
   "source": [
    "f(4)"
   ]
  },
  {
   "cell_type": "code",
   "execution_count": 7,
   "metadata": {},
   "outputs": [],
   "source": [
    "dy = T.grad(y, x)"
   ]
  },
  {
   "cell_type": "code",
   "execution_count": null,
   "metadata": {
    "scrolled": false
   },
   "outputs": [],
   "source": [
    "d3viz.d3viz(dy, 'figs'+os.sep+'dy.html')\n",
    "IFrame('figs'+os.sep+'dy.html', width=1000, height=600)"
   ]
  },
  {
   "cell_type": "code",
   "execution_count": 8,
   "metadata": {},
   "outputs": [
    {
     "data": {
      "text/html": [
       "\n",
       "        <iframe\n",
       "            width=\"1000\"\n",
       "            height=\"600\"\n",
       "            src=\"figs/dy.html\"\n",
       "            frameborder=\"0\"\n",
       "            allowfullscreen\n",
       "        ></iframe>\n",
       "        "
      ],
      "text/plain": [
       "<IPython.lib.display.IFrame at 0x118441e10>"
      ]
     },
     "execution_count": 8,
     "metadata": {},
     "output_type": "execute_result"
    }
   ],
   "source": [
    "IFrame('figs'+os.sep+'dy.html', width=1000, height=600)"
   ]
  },
  {
   "cell_type": "code",
   "execution_count": 9,
   "metadata": {},
   "outputs": [],
   "source": [
    "df = theano.function([x], dy)"
   ]
  },
  {
   "cell_type": "code",
   "execution_count": 10,
   "metadata": {},
   "outputs": [
    {
     "data": {
      "text/plain": [
       "array(8.0)"
      ]
     },
     "execution_count": 10,
     "metadata": {},
     "output_type": "execute_result"
    }
   ],
   "source": [
    "df(4)"
   ]
  },
  {
   "cell_type": "code",
   "execution_count": 11,
   "metadata": {},
   "outputs": [
    {
     "data": {
      "text/plain": [
       "False"
      ]
     },
     "execution_count": 11,
     "metadata": {},
     "output_type": "execute_result"
    }
   ],
   "source": [
    "numpy.allclose(f(94.2), 188.4)"
   ]
  },
  {
   "cell_type": "markdown",
   "metadata": {},
   "source": [
    "# Programming Multi-Layer Perceptrons with `theano`\n",
    "\n",
    "I have based this notebook on the code of the [theano deep learning tutorial](http://deeplearning.net/tutorial/) (&copy; 2008–2013, Theano Development Team All rights reserved)."
   ]
  },
  {
   "cell_type": "markdown",
   "metadata": {},
   "source": [
    "# Loading data\n",
    "\n",
    "* We are going to use the [MNIST database](https://en.wikipedia.org/wiki/MNIST_database)\n",
    "* Each MNIST image has size 28*28\n",
    "* Contains 60,000 training images and 10,000 testing images.\n",
    "* That is too much data to process at one time, we need to make batches!\n",
    "\n",
    "<hr/>\n",
    "<div class=\"container-fluid\">\n",
    "  <div class=\"row\">\n",
    "      <div class=\"col-md-4\" align='center'> \n",
    "      </div>\n",
    "      <div class='col-md-4' align='center'>\n",
    "      <img src='http://myselph.de/mnistExamples.png'/>\n",
    "      </div>\n",
    "      <div class=\"col-md-4\" align='center'>\n",
    "      </div>\n",
    "  </div>\n",
    "</div>"
   ]
  },
  {
   "cell_type": "code",
   "execution_count": 12,
   "metadata": {},
   "outputs": [],
   "source": [
    "def load_data(dataset):\n",
    "    ''' Loads the dataset\n",
    "\n",
    "    :type dataset: string\n",
    "    :param dataset: the path to the dataset (here MNIST)\n",
    "    '''\n",
    "\n",
    "    # Download the MNIST dataset if it is not present\n",
    "    data_dir, data_file = os.path.split(dataset)\n",
    "    if data_dir == \"\" and not os.path.isfile(dataset):\n",
    "        # Check if dataset is in the data directory.\n",
    "        new_path = os.path.join(os.getcwd(), \"data\", dataset)\n",
    "        if os.path.isfile(new_path) or data_file == 'mnist.pkl.gz':\n",
    "            dataset = new_path\n",
    "\n",
    "    if (not os.path.isfile(dataset)) and data_file == 'mnist.pkl.gz':\n",
    "        from six.moves import urllib\n",
    "        origin = (\n",
    "            'http://www.iro.umontreal.ca/~lisa/deep/data/mnist/mnist.pkl.gz')\n",
    "        print('Downloading data from %s' % origin)\n",
    "        urllib.request.urlretrieve(origin, dataset)\n",
    "\n",
    "    # Load the dataset\n",
    "    with gzip.open(dataset, 'rb') as f:\n",
    "        try:\n",
    "            train_set, valid_set, test_set = pickle.load(f, encoding='latin1')\n",
    "        except:\n",
    "            train_set, valid_set, test_set = pickle.load(f)\n",
    "    # train_set, valid_set, test_set format: tuple(input, target)\n",
    "    # input is a numpy.ndarray of 2 dimensions (a matrix)\n",
    "    # where each row corresponds to an example. target is a\n",
    "    # numpy.ndarray of 1 dimension (vector) that has the same length as\n",
    "    # the number of rows in the input. It should give the target\n",
    "    # to the example with the same index in the input.\n",
    "\n",
    "    def shared_dataset(data_xy, borrow=True):\n",
    "        \"\"\" Function that loads the dataset into shared variables\n",
    "\n",
    "        The reason we store our dataset in shared variables is to allow\n",
    "        Theano to copy it into the GPU memory (when code is run on GPU).\n",
    "        Since copying data into the GPU is slow, copying a minibatch everytime\n",
    "        is needed (the default behaviour if the data is not in a shared\n",
    "        variable) would lead to a large decrease in performance.\n",
    "        \"\"\"\n",
    "        data_x, data_y = data_xy\n",
    "        shared_x = theano.shared(\n",
    "            numpy.asarray(\n",
    "                data_x, dtype=theano.config.floatX), borrow=borrow)\n",
    "        shared_y = theano.shared(\n",
    "            numpy.asarray(\n",
    "                data_y, dtype=theano.config.floatX), borrow=borrow)\n",
    "        # When storing data on the GPU it has to be stored as floats\n",
    "        # therefore we will store the labels as ``floatX`` as well\n",
    "        # (``shared_y`` does exactly that). But during our computations\n",
    "        # we need them as ints (we use labels as index, and if they are\n",
    "        # floats it doesn't make sense) therefore instead of returning\n",
    "        # ``shared_y`` we will have to cast it to int. This little hack\n",
    "        # lets ous get around this issue\n",
    "        return shared_x, T.cast(shared_y, 'int32')\n",
    "\n",
    "    test_set_x, test_set_y = shared_dataset(test_set)\n",
    "    valid_set_x, valid_set_y = shared_dataset(valid_set)\n",
    "    train_set_x, train_set_y = shared_dataset(train_set)\n",
    "\n",
    "    rval = [(train_set_x, train_set_y), (valid_set_x, valid_set_y),\n",
    "            (test_set_x, test_set_y)]\n",
    "    return rval"
   ]
  },
  {
   "cell_type": "markdown",
   "metadata": {},
   "source": [
    "## Programming a multi-class logistic regression\n",
    "\n",
    "* The logistic regression is fully described by a weight matrix $\\vec{W}$ and bias vector $\\vec{b}$. \n",
    "* Classification is done by projecting data points onto a set of hyperplanes, the distance to which is used to determine a class membership probability."
   ]
  },
  {
   "cell_type": "code",
   "execution_count": 13,
   "metadata": {},
   "outputs": [],
   "source": [
    "class LogisticRegression(object):\n",
    "    def __init__(self, input, n_in, n_out):\n",
    "        # initialize with 0 the weights W as a matrix of shape (n_in, n_out)\n",
    "        self.W = theano.shared(\n",
    "            value=numpy.zeros(\n",
    "                (n_in, n_out), dtype=theano.config.floatX),\n",
    "            name='W',\n",
    "            borrow=True)\n",
    "        # initialize the biases b as a vector of n_out 0s\n",
    "        self.b = theano.shared(\n",
    "            value=numpy.zeros(\n",
    "                (n_out, ), dtype=theano.config.floatX),\n",
    "            name='b',\n",
    "            borrow=True)\n",
    "\n",
    "        # symbolic expression for computing the matrix of class-membership\n",
    "        # probabilities\n",
    "        # Where:\n",
    "        # W is a matrix where column-k represent the separation hyperplane for\n",
    "        # class-k\n",
    "        # x is a matrix where row-j  represents input training sample-j\n",
    "        # b is a vector where element-k represent the free parameter of\n",
    "        # hyperplane-k\n",
    "        self.p_y_given_x = T.nnet.softmax(T.dot(input, self.W) + self.b)\n",
    "\n",
    "        # symbolic description of how to compute prediction as class whose\n",
    "        # probability is maximal\n",
    "        self.y_pred = T.argmax(self.p_y_given_x, axis=1)\n",
    "\n",
    "        # parameters of the model\n",
    "        self.params = [self.W, self.b]\n",
    "\n",
    "        # keep track of model input\n",
    "        self.input = input\n",
    "\n",
    "    def negative_log_likelihood(self, y):\n",
    "        \"\"\"Return the mean of the negative log-likelihood of the prediction\n",
    "        of this model under a given target distribution.\n",
    "\n",
    "        Note: we use the mean instead of the sum so that\n",
    "              the learning rate is less dependent on the batch size\n",
    "        \"\"\"\n",
    "        return -T.mean(T.log(self.p_y_given_x)[T.arange(y.shape[0]), y])\n",
    "\n",
    "    def errors(self, y):\n",
    "        \"\"\"Return a float representing the number of errors in the minibatch\n",
    "        over the total number of examples of the minibatch ; zero one\n",
    "        loss over the size of the minibatch\n",
    "\n",
    "        :type y: theano.tensor.TensorType\n",
    "        :param y: corresponds to a vector that gives for each example the\n",
    "                  correct label\n",
    "        \"\"\"\n",
    "\n",
    "        # check if y has same dimension of y_pred\n",
    "        if y.ndim != self.y_pred.ndim:\n",
    "            raise TypeError('y should have the same shape as self.y_pred',\n",
    "                            ('y', y.type, 'y_pred', self.y_pred.type))\n",
    "        # check if y is of the correct datatype\n",
    "        if y.dtype.startswith('int'):\n",
    "            # the T.neq operator returns a vector of 0s and 1s, where 1\n",
    "            # represents a mistake in prediction\n",
    "            return T.mean(T.neq(self.y_pred, y))\n",
    "        else:\n",
    "            raise NotImplementedError()"
   ]
  },
  {
   "cell_type": "code",
   "execution_count": 14,
   "metadata": {},
   "outputs": [],
   "source": [
    "learning_rate = 0.13\n",
    "n_epochs = 100\n",
    "dataset = 'mnist.pkl.gz'\n",
    "batch_size = 30"
   ]
  },
  {
   "cell_type": "markdown",
   "metadata": {},
   "source": [
    "Loading data"
   ]
  },
  {
   "cell_type": "code",
   "execution_count": 16,
   "metadata": {},
   "outputs": [],
   "source": [
    "datasets = load_data(dataset)\n",
    "\n",
    "train_set_x, train_set_y = datasets[0]\n",
    "valid_set_x, valid_set_y = datasets[1]\n",
    "test_set_x, test_set_y = datasets[2]"
   ]
  },
  {
   "cell_type": "markdown",
   "metadata": {},
   "source": [
    "Compute number of minibatches for training, validation and testing"
   ]
  },
  {
   "cell_type": "code",
   "execution_count": 17,
   "metadata": {},
   "outputs": [],
   "source": [
    "n_train_batches = train_set_x.get_value(borrow=True).shape[0] // batch_size\n",
    "n_valid_batches = valid_set_x.get_value(borrow=True).shape[0] // batch_size\n",
    "n_test_batches = test_set_x.get_value(borrow=True).shape[0] // batch_size"
   ]
  },
  {
   "cell_type": "code",
   "execution_count": 18,
   "metadata": {},
   "outputs": [],
   "source": [
    "# allocate symbolic variables for the data\n",
    "index = T.lscalar()  # index to a [mini]batch\n",
    "\n",
    "# generate symbolic variables for input (x and y represent a\n",
    "# minibatch)\n",
    "x = T.matrix('x')  # data, presented as rasterized images\n",
    "y = T.ivector('y')  # labels, presented as 1D vector of [int] labels"
   ]
  },
  {
   "cell_type": "markdown",
   "metadata": {},
   "source": [
    "Construct the logistic regression class instance"
   ]
  },
  {
   "cell_type": "code",
   "execution_count": 19,
   "metadata": {},
   "outputs": [],
   "source": [
    "classifier = LogisticRegression(input=x, n_in=28 * 28, n_out=10)"
   ]
  },
  {
   "cell_type": "markdown",
   "metadata": {},
   "source": [
    "The cost function (error or loss function) we minimize during training is the negative log likelihood of the model in symbolic format."
   ]
  },
  {
   "cell_type": "code",
   "execution_count": 20,
   "metadata": {},
   "outputs": [],
   "source": [
    "cost = classifier.negative_log_likelihood(y)"
   ]
  },
  {
   "cell_type": "markdown",
   "metadata": {},
   "source": [
    "Compiling a Theano function that computes the mistakes that are made by the model on a validation minibatch."
   ]
  },
  {
   "cell_type": "code",
   "execution_count": 21,
   "metadata": {},
   "outputs": [],
   "source": [
    "validate_model = theano.function(\n",
    "    inputs=[index],\n",
    "    outputs=classifier.errors(y),\n",
    "    givens={\n",
    "        x: valid_set_x[index * batch_size:(index + 1) * batch_size],\n",
    "        y: valid_set_y[index * batch_size:(index + 1) * batch_size]\n",
    "    })"
   ]
  },
  {
   "cell_type": "markdown",
   "metadata": {},
   "source": [
    "A similar function for testing"
   ]
  },
  {
   "cell_type": "code",
   "execution_count": 22,
   "metadata": {},
   "outputs": [],
   "source": [
    "test_model = theano.function(\n",
    "    inputs=[index],\n",
    "    outputs=classifier.errors(y),\n",
    "    givens={\n",
    "        x: test_set_x[index * batch_size:(index + 1) * batch_size],\n",
    "        y: test_set_y[index * batch_size:(index + 1) * batch_size]\n",
    "    })"
   ]
  },
  {
   "cell_type": "code",
   "execution_count": 23,
   "metadata": {},
   "outputs": [],
   "source": [
    "train_set_loss = theano.function(\n",
    "    inputs=[index],\n",
    "    outputs=classifier.errors(y),\n",
    "    givens={\n",
    "        x: train_set_x[index * batch_size:(index + 1) * batch_size],\n",
    "        y: train_set_y[index * batch_size:(index + 1) * batch_size]\n",
    "    })"
   ]
  },
  {
   "cell_type": "markdown",
   "metadata": {},
   "source": [
    "Compute the gradient of cost with respect to $\\vec{W}$ and $\\vec{b}$."
   ]
  },
  {
   "cell_type": "code",
   "execution_count": 24,
   "metadata": {},
   "outputs": [],
   "source": [
    "g_W = T.grad(cost=cost, wrt=classifier.W)\n",
    "g_b = T.grad(cost=cost, wrt=classifier.b)"
   ]
  },
  {
   "cell_type": "markdown",
   "metadata": {},
   "source": [
    "Specify how to update the parameters of the model as a list of (variable, update expression) pairs."
   ]
  },
  {
   "cell_type": "code",
   "execution_count": 25,
   "metadata": {},
   "outputs": [],
   "source": [
    "updates = [(classifier.W, classifier.W - learning_rate * g_W),\n",
    "           (classifier.b, classifier.b - learning_rate * g_b)]"
   ]
  },
  {
   "cell_type": "markdown",
   "metadata": {},
   "source": [
    "Compiling a Theano function `train_model` that returns the cost, but in the same time updates the parameter of the model based on the rules\n",
    "defined in `updates`"
   ]
  },
  {
   "cell_type": "code",
   "execution_count": 26,
   "metadata": {},
   "outputs": [],
   "source": [
    "train_model = theano.function(\n",
    "    inputs=[index],\n",
    "    outputs=cost,\n",
    "    updates=updates,\n",
    "    givens={\n",
    "        x: train_set_x[index * batch_size:(index + 1) * batch_size],\n",
    "        y: train_set_y[index * batch_size:(index + 1) * batch_size]\n",
    "    })"
   ]
  },
  {
   "cell_type": "markdown",
   "metadata": {},
   "source": [
    "All set! we are ready for training."
   ]
  },
  {
   "cell_type": "code",
   "execution_count": 27,
   "metadata": {
    "scrolled": false
   },
   "outputs": [],
   "source": [
    "def train(classifier,\n",
    "          train_model,\n",
    "          validate_model,\n",
    "          test_model,\n",
    "          n_epochs,\n",
    "          n_train_batches,\n",
    "          n_valid_batches,\n",
    "          n_test_batches,\n",
    "          validation_frequency,\n",
    "          patience=5000,\n",
    "          patience_increase=2,\n",
    "          improvement_threshold=0.995,\n",
    "          verbose=False,\n",
    "          log_results=False):\n",
    "    train_errors = []\n",
    "    validation_errors = []\n",
    "    test_errors = []\n",
    "\n",
    "    epoch = 0\n",
    "    done_looping = False\n",
    "\n",
    "    best_validation_loss = numpy.inf\n",
    "    test_score = 0.\n",
    "    while epoch < n_epochs and not done_looping:\n",
    "        epoch = epoch + 1\n",
    "        for minibatch_index in range(n_train_batches):\n",
    "            minibatch_avg_cost = train_model(minibatch_index)\n",
    "            # iteration number\n",
    "            iter_num = (epoch - 1) * n_train_batches + minibatch_index\n",
    "\n",
    "            # is it time to compute the validation set error?\n",
    "            if (iter_num + 1) % validation_frequency == 0:\n",
    "                validation_losses = [\n",
    "                    validate_model(i) for i in range(n_valid_batches)\n",
    "                ]\n",
    "                current_validation_loss = numpy.mean(validation_losses)\n",
    "\n",
    "                if log_results:\n",
    "                    # test it on the test set\n",
    "                    test_losses = [\n",
    "                        test_model(i) for i in range(n_test_batches)\n",
    "                    ]\n",
    "                    current_test_loss = numpy.mean(test_losses)\n",
    "\n",
    "                    # test it on the trainig set\n",
    "                    train_losses = [\n",
    "                        train_set_loss(i) for i in range(n_train_batches)\n",
    "                    ]\n",
    "                    current_train_loss = numpy.mean(train_losses)\n",
    "\n",
    "                    train_errors += [current_train_loss]\n",
    "                    validation_errors += [current_validation_loss]\n",
    "                    test_errors += [current_test_loss]\n",
    "\n",
    "                if verbose:\n",
    "                    print('epoch %i, minibatch %i/%i, validation error %f%%' %\n",
    "                          (epoch, minibatch_index + 1, n_train_batches,\n",
    "                           current_validation_loss * 100.))\n",
    "\n",
    "                # if we got the best validation score until now\n",
    "                if current_validation_loss < best_validation_loss:\n",
    "                    #improve patience if loss improvement is good enough\n",
    "                    if current_validation_loss < best_validation_loss * improvement_threshold:\n",
    "                        patience = max(patience, iter_num * patience_increase)\n",
    "\n",
    "                    best_validation_loss = current_validation_loss\n",
    "                    ## save the best model\n",
    "                    # with open('best_model.pkl', 'wb') as f:\n",
    "                    #     pickle.dump(classifier, f)\n",
    "\n",
    "            if patience <= iter_num:\n",
    "                print('Ran out of patience!')\n",
    "                done_looping = True\n",
    "                break\n",
    "    return train_errors, validation_errors, test_errors"
   ]
  },
  {
   "cell_type": "code",
   "execution_count": 28,
   "metadata": {},
   "outputs": [],
   "source": [
    "patience = 5000  # look as this many examples regardless\n",
    "patience_increase = 2  # wait this much longer when a new best is found\n",
    "improvement_threshold = 0.995  # a relative improvement of this much is\n",
    "# considered significant\n",
    "validation_frequency = min(n_train_batches, patience // 2)\n",
    "# go through this many\n",
    "# minibatches before checking the network\n",
    "# on the validation set; in this case we\n",
    "# check every epoch\n",
    "n_epochs = 100"
   ]
  },
  {
   "cell_type": "code",
   "execution_count": 29,
   "metadata": {},
   "outputs": [
    {
     "name": "stdout",
     "output_type": "stream",
     "text": [
      "epoch 1, minibatch 1666/1666, validation error 8.548549%\n",
      "epoch 2, minibatch 1666/1666, validation error 8.118118%\n",
      "epoch 3, minibatch 1666/1666, validation error 7.877878%\n",
      "epoch 4, minibatch 1666/1666, validation error 7.727728%\n",
      "epoch 5, minibatch 1666/1666, validation error 7.507508%\n",
      "epoch 6, minibatch 1666/1666, validation error 7.367367%\n",
      "epoch 7, minibatch 1666/1666, validation error 7.387387%\n",
      "epoch 8, minibatch 1666/1666, validation error 7.307307%\n",
      "epoch 9, minibatch 1666/1666, validation error 7.257257%\n",
      "epoch 10, minibatch 1666/1666, validation error 7.247247%\n",
      "epoch 11, minibatch 1666/1666, validation error 7.267267%\n",
      "epoch 12, minibatch 1666/1666, validation error 7.247247%\n",
      "epoch 13, minibatch 1666/1666, validation error 7.227227%\n",
      "epoch 14, minibatch 1666/1666, validation error 7.237237%\n",
      "epoch 15, minibatch 1666/1666, validation error 7.277277%\n",
      "epoch 16, minibatch 1666/1666, validation error 7.247247%\n",
      "epoch 17, minibatch 1666/1666, validation error 7.257257%\n",
      "Ran out of patience!\n",
      "CPU times: user 11.8 s, sys: 215 ms, total: 12 s\n",
      "Wall time: 6.25 s\n"
     ]
    }
   ],
   "source": [
    "%%time\n",
    "train_errors, validation_errors, test_errors = train(classifier, train_model, validate_model, test_model, \n",
    "                                                     n_epochs, \n",
    "                                                     n_train_batches, n_valid_batches, n_test_batches, \n",
    "                                                     validation_frequency, verbose=True,\n",
    "                                                     log_results=True)"
   ]
  },
  {
   "cell_type": "code",
   "execution_count": 30,
   "metadata": {},
   "outputs": [
    {
     "data": {
      "text/plain": [
       "Text(0,0.5,'Error')"
      ]
     },
     "execution_count": 30,
     "metadata": {},
     "output_type": "execute_result"
    },
    {
     "data": {
      "image/png": "[encoded data removed]",
      "text/plain": [
       "<matplotlib.figure.Figure at 0x11e50a6d8>"
      ]
     },
     "metadata": {
      "image/png": {
       "height": 270,
       "width": 408
      }
     },
     "output_type": "display_data"
    }
   ],
   "source": [
    "plt.plot(train_errors, label='Training set')\n",
    "plt.plot(validation_errors, label='Validation set')\n",
    "plt.plot(test_errors, label='Test set')\n",
    "plt.legend(loc='best', frameon=True)\n",
    "plt.xlabel('Epochs')\n",
    "plt.ylabel('Error')"
   ]
  },
  {
   "cell_type": "markdown",
   "metadata": {
    "collapsed": true
   },
   "source": [
    "## Programming Multilayer Perceptron"
   ]
  },
  {
   "cell_type": "markdown",
   "metadata": {},
   "source": [
    "We need to start by defining a hidden layer.\n",
    "\n",
    "Typical hidden layer of a MLP: units are fully-connected and have sigmoidal activation function. Weight matrix W is of shape (n_in,n_out) and the bias vector b is of shape (n_out,).\n",
    "\n",
    "**Note**: \n",
    "* The nonlinearity used here is $\\tanh()$\n",
    "* Hidden unit output is given by: `tanh(dot(input,W) + b)`."
   ]
  },
  {
   "cell_type": "markdown",
   "metadata": {},
   "source": [
    "The softmax function, or normalized exponential, is a generalization of the logistic function that \"squashes\" a $K$-dimensional vector $\\vec{z}$ of arbitrary real values to a $K$-dimensional vector $\\sigma(\\vec{z})$ of real values in the range (0, 1) that add up to 1. The function is given by\n",
    "\n",
    "$$\n",
    "\\sigma(\\mathbf{z})_j = \\frac{e^{z_j}}{\\sum_{k=1}^K e^{z_k}}\\quad    \\text{for}\\ j = 1,\\ldots, K.\n",
    "$$"
   ]
  },
  {
   "cell_type": "code",
   "execution_count": 41,
   "metadata": {},
   "outputs": [],
   "source": [
    "class HiddenLayer():\n",
    "    def __init__(self,\n",
    "                 rng,\n",
    "                 input,\n",
    "                 n_in,\n",
    "                 n_out,\n",
    "                 W=None,\n",
    "                 b=None,\n",
    "                 activation=T.tanh):\n",
    "        \"\"\"\n",
    "        :type rng: numpy.random.RandomState\n",
    "        :param rng: a random number generator used to initialize weights\n",
    "\n",
    "        :type input: theano.tensor.dmatrix\n",
    "        :param input: a symbolic tensor of shape (n_examples, n_in)\n",
    "\n",
    "        :type n_in: int\n",
    "        :param n_in: dimensionality of input\n",
    "\n",
    "        :type n_out: int\n",
    "        :param n_out: number of hidden units\n",
    "\n",
    "        :type activation: theano.Op or function\n",
    "        :param activation: Non linearity to be applied in the hidden\n",
    "                           layer\n",
    "        \"\"\"\n",
    "        self.input = input\n",
    "\n",
    "        # `W` is initialized with `W_values` which is uniformely sampled\n",
    "        # from sqrt(-6./(n_in+n_hidden)) and sqrt(6./(n_in+n_hidden))\n",
    "        # for tanh activation function\n",
    "        # the output of uniform if converted using asarray to dtype\n",
    "        # theano.config.floatX so that the code is runable on GPU\n",
    "        # Note : optimal initialization of weights is dependent on the\n",
    "        #        activation function used (among other things).\n",
    "        #        For example, results presented in [Xavier10] suggest that you\n",
    "        #        should use 4 times larger initial weights for sigmoid\n",
    "        #        compared to tanh\n",
    "        #        We have no info for other function, so we use the same as\n",
    "        #        tanh.\n",
    "        if W is None:\n",
    "            W_values = numpy.asarray(\n",
    "                rng.uniform(\n",
    "                    low=-numpy.sqrt(6. / (n_in + n_out)),\n",
    "                    high=numpy.sqrt(6. / (n_in + n_out)),\n",
    "                    size=(n_in, n_out)),\n",
    "                dtype=theano.config.floatX)\n",
    "            if activation == theano.tensor.nnet.sigmoid:\n",
    "                W_values *= 4\n",
    "\n",
    "            W = theano.shared(value=W_values, name='W', borrow=True)\n",
    "\n",
    "        if b is None:\n",
    "            b_values = numpy.zeros((n_out, ), dtype=theano.config.floatX)\n",
    "            b = theano.shared(value=b_values, name='b', borrow=True)\n",
    "\n",
    "        self.W = W\n",
    "        self.b = b\n",
    "\n",
    "        lin_output = T.dot(input, self.W) + self.b\n",
    "        self.output = (lin_output\n",
    "                       if activation is None else activation(lin_output))\n",
    "        # parameters of the model\n",
    "        self.params = [self.W, self.b]"
   ]
  },
  {
   "cell_type": "markdown",
   "metadata": {},
   "source": [
    "## Multi-Layer Perceptron Class\n",
    "\n",
    "A multilayer perceptron is a feedforward artificial neural network model that has one layer or more of hidden units and nonlinear activations. Intermediate layers usually have as activation function tanh or the sigmoid function (defined here by a ``HiddenLayer`` class)  while the top layer is a softmax layer (defined here by a ``LogisticRegression`` class)."
   ]
  },
  {
   "cell_type": "markdown",
   "metadata": {},
   "source": [
    "The softmax function, or normalized exponential, is a generalization of the logistic function that \"squashes\" a $K$-dimensional vector $\\vec{z}$ of arbitrary real values to a $K$-dimensional vector $\\sigma(\\vec{z})$ of real values in the range (0, 1) that add up to 1. The function is given by\n",
    "\n",
    "$$\n",
    "\\sigma(\\mathbf{z})_j = \\frac{e^{z_j}}{\\sum_{k=1}^K e^{z_k}}\\quad    \\text{for}\\ j = 1,\\ldots, K.\n",
    "$$"
   ]
  },
  {
   "cell_type": "code",
   "execution_count": 42,
   "metadata": {},
   "outputs": [],
   "source": [
    "class MLP:\n",
    "    def __init__(self, rng, input, n_in, n_hidden, n_out, activation=T.tanh):\n",
    "        \"\"\"Initialize the parameters for the multilayer perceptron\n",
    "\n",
    "        :type rng: numpy.random.RandomState\n",
    "        :param rng: a random number generator used to initialize weights\n",
    "\n",
    "        :type input: theano.tensor.TensorType\n",
    "        :param input: symbolic variable that describes the input of the\n",
    "        architecture (one minibatch)\n",
    "\n",
    "        :type n_in: int\n",
    "        :param n_in: number of input units, the dimension of the space in\n",
    "        which the datapoints lie\n",
    "\n",
    "        :type n_hidden: int\n",
    "        :param n_hidden: number of hidden units\n",
    "\n",
    "        :type n_out: int\n",
    "        :param n_out: number of output units, the dimension of the space in\n",
    "        which the labels lie\n",
    "        \"\"\"\n",
    "\n",
    "        # Since we are dealing with a one hidden layer MLP, this will translate\n",
    "        # into a HiddenLayer with a tanh activation function connected to the\n",
    "        # LogisticRegression layer; the activation function can be replaced by\n",
    "        # sigmoid or any other nonlinear function\n",
    "        self.hidden_layer = HiddenLayer(\n",
    "            rng=rng,\n",
    "            input=input,\n",
    "            n_in=n_in,\n",
    "            n_out=n_hidden,\n",
    "            activation=activation)\n",
    "\n",
    "        # The logistic regression layer gets as input the hidden units\n",
    "        # of the hidden layer\n",
    "        self.log_regression_layer = LogisticRegression(\n",
    "            input=self.hidden_layer.output, n_in=n_hidden, n_out=n_out)\n",
    "\n",
    "        # L1 norm ; one regularization option is to enforce L1 norm to be small\n",
    "        self.L1 = abs(self.hidden_layer.W).sum() + abs(\n",
    "            self.log_regression_layer.W).sum()\n",
    "\n",
    "        # square of L2 norm ; one regularization option is to enforce\n",
    "        # square of L2 norm to be small\n",
    "        self.L2_sqr = (self.hidden_layer.W**2).sum() + (\n",
    "            self.log_regression_layer.W**2).sum()\n",
    "\n",
    "        # negative log likelihood of the MLP is given by the negative\n",
    "        # log likelihood of the output of the model, computed in the\n",
    "        # logistic regression layer\n",
    "        self.negative_log_likelihood = self.log_regression_layer.negative_log_likelihood\n",
    "\n",
    "        # same holds for the function computing the number of errors\n",
    "        self.errors = self.log_regression_layer.errors\n",
    "\n",
    "        # the parameters of the model are the parameters of the two layer it is\n",
    "        # made out of\n",
    "        self.params = self.hidden_layer.params + self.log_regression_layer.params\n",
    "\n",
    "        # keep track of model input\n",
    "        self.input = input"
   ]
  },
  {
   "cell_type": "code",
   "execution_count": 43,
   "metadata": {},
   "outputs": [],
   "source": [
    "dataset='mnist.pkl.gz'\n",
    "batch_size=30"
   ]
  },
  {
   "cell_type": "code",
   "execution_count": 44,
   "metadata": {},
   "outputs": [],
   "source": [
    "datasets = load_data(dataset)"
   ]
  },
  {
   "cell_type": "code",
   "execution_count": 45,
   "metadata": {},
   "outputs": [],
   "source": [
    "train_set_x, train_set_y = datasets[0]\n",
    "valid_set_x, valid_set_y = datasets[1]\n",
    "test_set_x, test_set_y = datasets[2]"
   ]
  },
  {
   "cell_type": "markdown",
   "metadata": {},
   "source": [
    "Compute number of minibatches for training, validation and testing"
   ]
  },
  {
   "cell_type": "code",
   "execution_count": 46,
   "metadata": {},
   "outputs": [],
   "source": [
    "n_train_batches = train_set_x.get_value(borrow=True).shape[0] // batch_size\n",
    "n_valid_batches = valid_set_x.get_value(borrow=True).shape[0] // batch_size\n",
    "n_test_batches = test_set_x.get_value(borrow=True).shape[0] // batch_size"
   ]
  },
  {
   "cell_type": "code",
   "execution_count": 47,
   "metadata": {},
   "outputs": [],
   "source": [
    "patience = 5000  # look as this many examples regardless\n",
    "validation_frequency = min(n_train_batches, patience // 2)\n",
    "# go through this many\n",
    "# minibatches before checking the network\n",
    "# on the validation set; in this case we\n",
    "# check every epoch"
   ]
  },
  {
   "cell_type": "markdown",
   "metadata": {},
   "source": [
    "Allocate symbolic variables for the data"
   ]
  },
  {
   "cell_type": "code",
   "execution_count": 48,
   "metadata": {},
   "outputs": [],
   "source": [
    "index = T.lscalar()  # index to a [mini]batch\n",
    "x = T.matrix('x')  # the data is presented as rasterized images\n",
    "y = T.ivector('y')  # the labels are presented as 1D vector of [int] labels"
   ]
  },
  {
   "cell_type": "code",
   "execution_count": 49,
   "metadata": {},
   "outputs": [],
   "source": [
    "rng = numpy.random.RandomState(42)"
   ]
  },
  {
   "cell_type": "markdown",
   "metadata": {},
   "source": [
    "Creating the MLP class instance"
   ]
  },
  {
   "cell_type": "code",
   "execution_count": 50,
   "metadata": {},
   "outputs": [],
   "source": [
    "learning_rate=0.05\n",
    "L1_reg=0.0001\n",
    "L2_reg=0.0001 \n",
    "n_epochs=300\n",
    "n_hidden=500"
   ]
  },
  {
   "cell_type": "code",
   "execution_count": 51,
   "metadata": {},
   "outputs": [],
   "source": [
    "mlp = MLP(rng=rng, input=x, n_in=28 * 28, n_hidden=n_hidden, n_out=10)"
   ]
  },
  {
   "cell_type": "markdown",
   "metadata": {},
   "source": [
    "The cost we minimize during training is the negative log likelihood of the model plus the regularization terms (L1 and L2); cost is expressed here symbolically."
   ]
  },
  {
   "cell_type": "code",
   "execution_count": 52,
   "metadata": {},
   "outputs": [],
   "source": [
    "cost = mlp.negative_log_likelihood(y) + L1_reg * mlp.L1 + L2_reg * mlp.L2_sqr"
   ]
  },
  {
   "cell_type": "markdown",
   "metadata": {},
   "source": [
    "Compiling a Theano function that computes the mistakes that are made by the model on a minibatch"
   ]
  },
  {
   "cell_type": "code",
   "execution_count": 53,
   "metadata": {},
   "outputs": [],
   "source": [
    "test_model = theano.function(\n",
    "    inputs=[index],\n",
    "    outputs=mlp.errors(y),\n",
    "    givens={\n",
    "        x: test_set_x[index * batch_size:(index + 1) * batch_size],\n",
    "        y: test_set_y[index * batch_size:(index + 1) * batch_size]\n",
    "    })"
   ]
  },
  {
   "cell_type": "code",
   "execution_count": 54,
   "metadata": {},
   "outputs": [],
   "source": [
    "validate_model = theano.function(\n",
    "    inputs=[index],\n",
    "    outputs=mlp.errors(y),\n",
    "    givens={\n",
    "        x: valid_set_x[index * batch_size:(index + 1) * batch_size],\n",
    "        y: valid_set_y[index * batch_size:(index + 1) * batch_size]\n",
    "    })"
   ]
  },
  {
   "cell_type": "code",
   "execution_count": 55,
   "metadata": {},
   "outputs": [],
   "source": [
    "train_set_loss = theano.function(\n",
    "    inputs=[index],\n",
    "    outputs=mlp.errors(y),\n",
    "    givens={\n",
    "        x: train_set_x[index * batch_size:(index + 1) * batch_size],\n",
    "        y: train_set_y[index * batch_size:(index + 1) * batch_size]\n",
    "    })"
   ]
  },
  {
   "cell_type": "markdown",
   "metadata": {},
   "source": [
    "Compute the gradient of cost with respect to the parameters (sorted in `classifier.params`) the resulting gradients will be stored in a list `gparams`."
   ]
  },
  {
   "cell_type": "code",
   "execution_count": 56,
   "metadata": {},
   "outputs": [],
   "source": [
    "gparams = [T.grad(cost, param) for param in mlp.params]"
   ]
  },
  {
   "cell_type": "markdown",
   "metadata": {},
   "source": [
    "Specify how to update the parameters of the model as a list of `(variable, update expression)` pairs."
   ]
  },
  {
   "cell_type": "code",
   "execution_count": 57,
   "metadata": {},
   "outputs": [],
   "source": [
    "updates = [(param, param - learning_rate * gparam) \n",
    "           for param, gparam in zip(mlp.params, gparams)]"
   ]
  },
  {
   "cell_type": "markdown",
   "metadata": {},
   "source": [
    "Compiling a Theano function `train_model` that returns the cost, and at the same time, updates the parameter of the model based on the rules\n",
    "defined in `updates`."
   ]
  },
  {
   "cell_type": "code",
   "execution_count": 58,
   "metadata": {},
   "outputs": [],
   "source": [
    "train_model = theano.function(\n",
    "    inputs=[index],\n",
    "    outputs=cost,\n",
    "    updates=updates,\n",
    "    givens={\n",
    "        x: train_set_x[index * batch_size:(index + 1) * batch_size],\n",
    "        y: train_set_y[index * batch_size:(index + 1) * batch_size]\n",
    "    })"
   ]
  },
  {
   "cell_type": "code",
   "execution_count": null,
   "metadata": {
    "scrolled": true
   },
   "outputs": [
    {
     "name": "stdout",
     "output_type": "stream",
     "text": [
      "epoch 1, minibatch 1666/1666, validation error 8.518519%\n",
      "epoch 2, minibatch 1666/1666, validation error 7.907908%\n",
      "epoch 3, minibatch 1666/1666, validation error 7.487487%\n",
      "epoch 4, minibatch 1666/1666, validation error 6.996997%\n",
      "epoch 5, minibatch 1666/1666, validation error 6.466466%\n",
      "epoch 6, minibatch 1666/1666, validation error 5.875876%\n",
      "epoch 7, minibatch 1666/1666, validation error 5.335335%\n",
      "epoch 8, minibatch 1666/1666, validation error 4.984985%\n",
      "epoch 9, minibatch 1666/1666, validation error 4.634635%\n",
      "epoch 10, minibatch 1666/1666, validation error 4.284284%\n",
      "epoch 11, minibatch 1666/1666, validation error 4.104104%\n",
      "epoch 12, minibatch 1666/1666, validation error 3.883884%\n",
      "epoch 13, minibatch 1666/1666, validation error 3.603604%\n",
      "epoch 14, minibatch 1666/1666, validation error 3.493493%\n",
      "epoch 15, minibatch 1666/1666, validation error 3.383383%\n",
      "epoch 16, minibatch 1666/1666, validation error 3.283283%\n",
      "epoch 17, minibatch 1666/1666, validation error 3.163163%\n",
      "epoch 18, minibatch 1666/1666, validation error 3.103103%\n",
      "epoch 19, minibatch 1666/1666, validation error 3.053053%\n",
      "epoch 20, minibatch 1666/1666, validation error 3.013013%\n",
      "epoch 21, minibatch 1666/1666, validation error 2.992993%\n",
      "epoch 22, minibatch 1666/1666, validation error 2.972973%\n",
      "epoch 23, minibatch 1666/1666, validation error 2.952953%\n",
      "epoch 24, minibatch 1666/1666, validation error 2.932933%\n",
      "epoch 25, minibatch 1666/1666, validation error 2.912913%\n",
      "epoch 26, minibatch 1666/1666, validation error 2.812813%\n",
      "epoch 27, minibatch 1666/1666, validation error 2.792793%\n",
      "epoch 28, minibatch 1666/1666, validation error 2.812813%\n",
      "epoch 29, minibatch 1666/1666, validation error 2.742743%\n",
      "epoch 30, minibatch 1666/1666, validation error 2.682683%\n",
      "epoch 31, minibatch 1666/1666, validation error 2.652653%\n",
      "epoch 32, minibatch 1666/1666, validation error 2.642643%\n",
      "epoch 33, minibatch 1666/1666, validation error 2.592593%\n",
      "epoch 34, minibatch 1666/1666, validation error 2.602603%\n",
      "epoch 35, minibatch 1666/1666, validation error 2.562563%\n",
      "epoch 36, minibatch 1666/1666, validation error 2.542543%\n",
      "epoch 37, minibatch 1666/1666, validation error 2.532533%\n",
      "epoch 38, minibatch 1666/1666, validation error 2.522523%\n",
      "epoch 39, minibatch 1666/1666, validation error 2.512513%\n",
      "epoch 40, minibatch 1666/1666, validation error 2.502503%\n",
      "epoch 41, minibatch 1666/1666, validation error 2.492492%\n",
      "epoch 42, minibatch 1666/1666, validation error 2.502503%\n",
      "epoch 43, minibatch 1666/1666, validation error 2.492492%\n",
      "epoch 44, minibatch 1666/1666, validation error 2.462462%\n",
      "epoch 45, minibatch 1666/1666, validation error 2.432432%\n",
      "epoch 46, minibatch 1666/1666, validation error 2.432432%\n",
      "epoch 47, minibatch 1666/1666, validation error 2.442442%\n",
      "epoch 48, minibatch 1666/1666, validation error 2.432432%\n",
      "epoch 49, minibatch 1666/1666, validation error 2.432432%\n",
      "epoch 50, minibatch 1666/1666, validation error 2.432432%\n",
      "epoch 51, minibatch 1666/1666, validation error 2.442442%\n",
      "epoch 52, minibatch 1666/1666, validation error 2.462462%\n",
      "epoch 53, minibatch 1666/1666, validation error 2.472472%\n",
      "epoch 54, minibatch 1666/1666, validation error 2.462462%\n",
      "epoch 55, minibatch 1666/1666, validation error 2.462462%\n",
      "epoch 56, minibatch 1666/1666, validation error 2.462462%\n",
      "epoch 57, minibatch 1666/1666, validation error 2.462462%\n",
      "epoch 58, minibatch 1666/1666, validation error 2.502503%\n",
      "epoch 59, minibatch 1666/1666, validation error 2.502503%\n",
      "epoch 60, minibatch 1666/1666, validation error 2.502503%\n",
      "epoch 61, minibatch 1666/1666, validation error 2.492492%\n",
      "epoch 62, minibatch 1666/1666, validation error 2.502503%\n",
      "epoch 63, minibatch 1666/1666, validation error 2.482482%\n",
      "epoch 64, minibatch 1666/1666, validation error 2.482482%\n",
      "epoch 65, minibatch 1666/1666, validation error 2.482482%\n",
      "epoch 66, minibatch 1666/1666, validation error 2.482482%\n",
      "epoch 67, minibatch 1666/1666, validation error 2.492492%\n",
      "epoch 68, minibatch 1666/1666, validation error 2.452452%\n",
      "epoch 69, minibatch 1666/1666, validation error 2.452452%\n",
      "epoch 70, minibatch 1666/1666, validation error 2.442442%\n",
      "epoch 71, minibatch 1666/1666, validation error 2.432432%\n",
      "epoch 72, minibatch 1666/1666, validation error 2.432432%\n",
      "epoch 73, minibatch 1666/1666, validation error 2.422422%\n",
      "epoch 74, minibatch 1666/1666, validation error 2.402402%\n",
      "epoch 75, minibatch 1666/1666, validation error 2.402402%\n",
      "epoch 76, minibatch 1666/1666, validation error 2.402402%\n",
      "epoch 77, minibatch 1666/1666, validation error 2.412412%\n",
      "epoch 78, minibatch 1666/1666, validation error 2.402402%\n",
      "epoch 79, minibatch 1666/1666, validation error 2.402402%\n",
      "epoch 80, minibatch 1666/1666, validation error 2.402402%\n",
      "epoch 81, minibatch 1666/1666, validation error 2.402402%\n",
      "epoch 82, minibatch 1666/1666, validation error 2.402402%\n",
      "epoch 83, minibatch 1666/1666, validation error 2.402402%\n",
      "epoch 84, minibatch 1666/1666, validation error 2.392392%\n",
      "epoch 85, minibatch 1666/1666, validation error 2.392392%\n",
      "epoch 86, minibatch 1666/1666, validation error 2.382382%\n",
      "epoch 87, minibatch 1666/1666, validation error 2.382382%\n",
      "epoch 88, minibatch 1666/1666, validation error 2.382382%\n",
      "epoch 89, minibatch 1666/1666, validation error 2.392392%\n",
      "epoch 90, minibatch 1666/1666, validation error 2.392392%\n",
      "epoch 91, minibatch 1666/1666, validation error 2.402402%\n",
      "epoch 92, minibatch 1666/1666, validation error 2.392392%\n",
      "epoch 93, minibatch 1666/1666, validation error 2.392392%\n",
      "epoch 94, minibatch 1666/1666, validation error 2.382382%\n",
      "epoch 95, minibatch 1666/1666, validation error 2.392392%\n",
      "epoch 96, minibatch 1666/1666, validation error 2.402402%\n",
      "epoch 97, minibatch 1666/1666, validation error 2.382382%\n",
      "epoch 98, minibatch 1666/1666, validation error 2.382382%\n",
      "epoch 99, minibatch 1666/1666, validation error 2.362362%\n",
      "epoch 100, minibatch 1666/1666, validation error 2.352352%\n",
      "epoch 101, minibatch 1666/1666, validation error 2.342342%\n",
      "epoch 102, minibatch 1666/1666, validation error 2.342342%\n",
      "epoch 103, minibatch 1666/1666, validation error 2.342342%\n",
      "epoch 104, minibatch 1666/1666, validation error 2.342342%\n",
      "epoch 105, minibatch 1666/1666, validation error 2.312312%\n",
      "epoch 106, minibatch 1666/1666, validation error 2.292292%\n",
      "epoch 107, minibatch 1666/1666, validation error 2.292292%\n",
      "epoch 108, minibatch 1666/1666, validation error 2.282282%\n",
      "epoch 109, minibatch 1666/1666, validation error 2.292292%\n",
      "epoch 110, minibatch 1666/1666, validation error 2.282282%\n",
      "epoch 111, minibatch 1666/1666, validation error 2.272272%\n",
      "epoch 112, minibatch 1666/1666, validation error 2.262262%\n",
      "epoch 113, minibatch 1666/1666, validation error 2.282282%\n",
      "epoch 114, minibatch 1666/1666, validation error 2.282282%\n",
      "epoch 115, minibatch 1666/1666, validation error 2.292292%\n",
      "epoch 116, minibatch 1666/1666, validation error 2.292292%\n",
      "epoch 117, minibatch 1666/1666, validation error 2.282282%\n",
      "epoch 118, minibatch 1666/1666, validation error 2.272272%\n",
      "epoch 119, minibatch 1666/1666, validation error 2.262262%\n",
      "epoch 120, minibatch 1666/1666, validation error 2.262262%\n",
      "epoch 121, minibatch 1666/1666, validation error 2.262262%\n",
      "epoch 122, minibatch 1666/1666, validation error 2.272272%\n",
      "epoch 123, minibatch 1666/1666, validation error 2.272272%\n",
      "epoch 124, minibatch 1666/1666, validation error 2.272272%\n",
      "epoch 125, minibatch 1666/1666, validation error 2.272272%\n",
      "epoch 126, minibatch 1666/1666, validation error 2.262262%\n",
      "epoch 127, minibatch 1666/1666, validation error 2.272272%\n",
      "epoch 128, minibatch 1666/1666, validation error 2.282282%\n",
      "epoch 129, minibatch 1666/1666, validation error 2.282282%\n",
      "epoch 130, minibatch 1666/1666, validation error 2.282282%\n",
      "epoch 131, minibatch 1666/1666, validation error 2.282282%\n",
      "epoch 132, minibatch 1666/1666, validation error 2.282282%\n",
      "epoch 133, minibatch 1666/1666, validation error 2.282282%\n",
      "epoch 134, minibatch 1666/1666, validation error 2.282282%\n",
      "epoch 135, minibatch 1666/1666, validation error 2.282282%\n",
      "epoch 136, minibatch 1666/1666, validation error 2.282282%\n",
      "epoch 137, minibatch 1666/1666, validation error 2.282282%\n",
      "epoch 138, minibatch 1666/1666, validation error 2.282282%\n",
      "epoch 139, minibatch 1666/1666, validation error 2.292292%\n",
      "epoch 140, minibatch 1666/1666, validation error 2.282282%\n",
      "epoch 141, minibatch 1666/1666, validation error 2.272272%\n"
     ]
    },
    {
     "name": "stdout",
     "output_type": "stream",
     "text": [
      "epoch 142, minibatch 1666/1666, validation error 2.272272%\n",
      "epoch 143, minibatch 1666/1666, validation error 2.272272%\n",
      "epoch 144, minibatch 1666/1666, validation error 2.272272%\n",
      "epoch 145, minibatch 1666/1666, validation error 2.292292%\n",
      "epoch 146, minibatch 1666/1666, validation error 2.302302%\n",
      "epoch 147, minibatch 1666/1666, validation error 2.302302%\n"
     ]
    }
   ],
   "source": [
    "%%time\n",
    "train_errors, validation_errors, test_errors = train(\n",
    "    mlp,\n",
    "    train_model,\n",
    "    validate_model,\n",
    "    test_model,\n",
    "    n_epochs,\n",
    "    n_train_batches,\n",
    "    n_valid_batches,\n",
    "    n_test_batches,\n",
    "    validation_frequency,\n",
    "    verbose=True,\n",
    "    log_results=True)"
   ]
  },
  {
   "cell_type": "code",
   "execution_count": null,
   "metadata": {},
   "outputs": [],
   "source": [
    "plt.plot(train_errors, label='Training')\n",
    "plt.plot(validation_errors, label='Validation')\n",
    "plt.plot(test_errors, label='Test')\n",
    "plt.legend(loc='best', frameon=True)\n",
    "plt.xlabel('Epochs')\n",
    "plt.ylabel('Error')"
   ]
  },
  {
   "cell_type": "markdown",
   "metadata": {},
   "source": [
    "## Improvement 1: Rectified Linear Unit activation"
   ]
  },
  {
   "cell_type": "code",
   "execution_count": null,
   "metadata": {},
   "outputs": [],
   "source": [
    "def relu(x):\n",
    "    return x * (x > 0)"
   ]
  },
  {
   "cell_type": "code",
   "execution_count": null,
   "metadata": {},
   "outputs": [],
   "source": [
    "rng = numpy.random.RandomState(1234)\n",
    "\n",
    "mlp_relu = MLP(rng=rng,\n",
    "               input=x,\n",
    "               n_in=28 * 28,\n",
    "               n_hidden=n_hidden,\n",
    "               n_out=10,\n",
    "               activation=relu)"
   ]
  },
  {
   "cell_type": "code",
   "execution_count": null,
   "metadata": {},
   "outputs": [],
   "source": [
    "cost = mlp_relu.negative_log_likelihood(\n",
    "    y) + L1_reg * mlp_relu.L1 + L2_reg * mlp_relu.L2_sqr"
   ]
  },
  {
   "cell_type": "markdown",
   "metadata": {},
   "source": [
    "Compiling a Theano function that computes the mistakes that are made by the model on a minibatch"
   ]
  },
  {
   "cell_type": "code",
   "execution_count": null,
   "metadata": {},
   "outputs": [],
   "source": [
    "test_model = theano.function(\n",
    "    inputs=[index],\n",
    "    outputs=mlp_relu.errors(y),\n",
    "    givens={\n",
    "        x: test_set_x[index * batch_size:(index + 1) * batch_size],\n",
    "        y: test_set_y[index * batch_size:(index + 1) * batch_size]\n",
    "    })"
   ]
  },
  {
   "cell_type": "code",
   "execution_count": null,
   "metadata": {},
   "outputs": [],
   "source": [
    "validate_model = theano.function(\n",
    "    inputs=[index],\n",
    "    outputs=mlp_relu.errors(y),\n",
    "    givens={\n",
    "        x: valid_set_x[index * batch_size:(index + 1) * batch_size],\n",
    "        y: valid_set_y[index * batch_size:(index + 1) * batch_size]\n",
    "    })"
   ]
  },
  {
   "cell_type": "code",
   "execution_count": null,
   "metadata": {},
   "outputs": [],
   "source": [
    "train_set_loss = theano.function(\n",
    "    inputs=[index],\n",
    "    outputs=mlp_relu.errors(y),\n",
    "    givens={\n",
    "        x: train_set_x[index * batch_size:(index + 1) * batch_size],\n",
    "        y: train_set_y[index * batch_size:(index + 1) * batch_size]\n",
    "    })"
   ]
  },
  {
   "cell_type": "markdown",
   "metadata": {},
   "source": [
    "Compute the gradient of cost with respect to the parameters (sorted in `classifier.params`) the resulting gradients will be stored in a list `gparams`."
   ]
  },
  {
   "cell_type": "code",
   "execution_count": null,
   "metadata": {},
   "outputs": [],
   "source": [
    "gparams = [T.grad(cost, param) for param in mlp_relu.params]"
   ]
  },
  {
   "cell_type": "markdown",
   "metadata": {},
   "source": [
    "Specify how to update the parameters of the model as a list of `(variable, update expression)` pairs.\n",
    "\n",
    "* given two lists of the same length, `A = [a1, a2, a3, a4]` and `B = [b1, b2, b3, b4]`, `zip()` generates a list `C` of same size, where eachnelement is a pair formed from the two lists:\n",
    "```python\n",
    "C = [(a1, b1), (a2, b2), (a3, b3), (a4, b4)]\n",
    "```"
   ]
  },
  {
   "cell_type": "code",
   "execution_count": null,
   "metadata": {},
   "outputs": [],
   "source": [
    "updates = [(param, param - learning_rate * gparam) \n",
    "           for param, gparam in zip(mlp_relu.params, gparams)]"
   ]
  },
  {
   "cell_type": "markdown",
   "metadata": {},
   "source": [
    "Compiling a Theano function `train_model` that returns the cost, and at the same time, updates the parameter of the model based on the rules\n",
    "defined in `updates`."
   ]
  },
  {
   "cell_type": "code",
   "execution_count": null,
   "metadata": {},
   "outputs": [],
   "source": [
    "train_model = theano.function(\n",
    "    inputs=[index],\n",
    "    outputs=cost,\n",
    "    updates=updates,\n",
    "    givens={\n",
    "        x: train_set_x[index * batch_size:(index + 1) * batch_size],\n",
    "        y: train_set_y[index * batch_size:(index + 1) * batch_size]\n",
    "    })"
   ]
  },
  {
   "cell_type": "code",
   "execution_count": null,
   "metadata": {},
   "outputs": [],
   "source": [
    "%%time\n",
    "errors_relu = train(\n",
    "    mlp_relu,\n",
    "    train_model,\n",
    "    validate_model,\n",
    "    test_model,\n",
    "    n_epochs,\n",
    "    n_train_batches,\n",
    "    n_valid_batches,\n",
    "    n_test_batches,\n",
    "    validation_frequency,\n",
    "    verbose=True,\n",
    "    log_results=True)"
   ]
  },
  {
   "cell_type": "code",
   "execution_count": null,
   "metadata": {},
   "outputs": [],
   "source": [
    "train_errors_relu, validation_errors_relu, test_errors_relu = errors_relu"
   ]
  },
  {
   "cell_type": "code",
   "execution_count": null,
   "metadata": {},
   "outputs": [],
   "source": [
    "plt.figure(figsize=(12, 4))\n",
    "ax = plt.subplot(131)\n",
    "plt.plot(train_errors, label='Tanh')\n",
    "plt.plot(train_errors_relu, label='ReLU')\n",
    "plt.legend(loc='best', frameon=True)\n",
    "plt.xlabel('Epochs')\n",
    "plt.ylabel('Error')\n",
    "plt.title('Training set errors')\n",
    "plt.subplot(132, sharey=ax)\n",
    "plt.plot(validation_errors, label='Tanh')\n",
    "plt.plot(validation_errors_relu, label='ReLU')\n",
    "plt.legend(loc='best', frameon=True)\n",
    "plt.xlabel('Epochs')\n",
    "plt.title('Validation set errors')\n",
    "plt.subplot(133, sharey=ax)\n",
    "plt.plot(test_errors, label='Tanh')\n",
    "plt.plot(test_errors_relu, label='ReLU')\n",
    "plt.legend(loc='best', frameon=True)\n",
    "plt.xlabel('Epochs')\n",
    "plt.title('Test set errors')\n",
    "plt.tight_layout()"
   ]
  },
  {
   "cell_type": "markdown",
   "metadata": {},
   "source": [
    "## Homework\n",
    "\n",
    "* Implement a MLP that can have different numbers of hidden layers.\n",
    "* Add the momentum term to gradients."
   ]
  },
  {
   "cell_type": "code",
   "execution_count": null,
   "metadata": {},
   "outputs": [],
   "source": [
    "%load_ext version_information\n",
    "%version_information scipy, numpy, matplotlib, sklearn, theano"
   ]
  },
  {
   "cell_type": "code",
   "execution_count": 1,
   "metadata": {},
   "outputs": [
    {
     "data": {
      "text/html": [
       "<link href=\"https://fonts.googleapis.com/css?family=Fira+Sans:300,300i,600,600i\" rel=\"stylesheet\">\n",
       "<link href=\"https://fonts.googleapis.com/css?family=Inconsolata\" rel=\"stylesheet\">\n",
       "<link href=\"https://fonts.googleapis.com/css?family=Titillium+Web:400,400i,700,700i\" rel=\"stylesheet\">\n",
       "<style>\n",
       ".text_cell_render {\n",
       "font-style: regular;\n",
       "font-family: 'Fira Sans', sans-serif;\n",
       "display: block;\n",
       "}\n",
       "/*font-weight: 200;*/\n",
       "/*text-align: left;\n",
       "line-height: 100%;\n",
       "display: block;\n",
       "}*/\n",
       ".text_cell_render h1 {\n",
       "/*font-size: 24pt;*/\n",
       "font-family: 'Titillium Web', sans-serif;\n",
       "font-weight: bold;\n",
       "margin-bottom: 0.1em;\n",
       "margin-top: 0.5em;\n",
       "color:#4a4a4a;\n",
       "}\n",
       "\n",
       ".reveal h1 {\n",
       "font-family: 'Titillium Web', sans-serif;\n",
       "/*font-size: 24pt;*/\n",
       "font-weight: bold;\n",
       "margin-bottom: 0.1em;\n",
       "margin-top: 0.5em;\n",
       "color:#4a4a4a;\n",
       "}\n",
       ".text_cell_render h2 {\n",
       "/*font-size: 21pt;*/\n",
       "    font-family: 'Titillium Web', sans-serif;\n",
       "margin-bottom: 0.1em;\n",
       "margin-top: 0.3em;\n",
       "color:#595959;\n",
       "}\n",
       ".text_cell_render h3 {\n",
       "    font-family: 'Titillium Web', sans-serif;\n",
       "/*font-size: 19pt;*/\n",
       "margin-bottom: 0.1em;\n",
       "margin-top: 0.3em;\n",
       "color:#595959;\n",
       "}\n",
       ".text_cell_render h4 {\n",
       "    font-family: 'Titillium Web', sans-serif;\n",
       "/*font-size: 17pt;*/\n",
       "margin-bottom: 0.1em;\n",
       "margin-top: 0.3em;\n",
       "color:#595959;\n",
       "}\n",
       ".text_cell_render h5 {\n",
       "    font-family: 'Titillium Web', sans-serif;\n",
       "/*font-size: 15pt;*/\n",
       "margin-bottom: 0.1em;\n",
       "margin-top: 0.3em;\n",
       "color:#595959;\n",
       "}\n",
       "div.text_cell_render{\n",
       "line-height: 120%;\n",
       "font-size: 100%;\n",
       "font-weight: 400;\n",
       "text-align: justify;\n",
       "margin-left:0em;\n",
       "margin-right:0em;\n",
       "}\n",
       ".reveal div.text_cell_render{\n",
       "line-height: 120%;\n",
       "font-size: 74%;\n",
       "font-weight: 400;\n",
       "text-align: justify;\n",
       "margin-left:0em;\n",
       "margin-right:0em;\n",
       "}\n",
       "\n",
       ".reveal h2 {\n",
       "font-family: 'Titillium Web', sans-serif;\n",
       "/*font-size: 24pt;*/\n",
       "font-weight: bold;\n",
       "margin-bottom: 0.1em;\n",
       "margin-top: 0.5em;\n",
       "color:#595959;\n",
       "}\n",
       ".reveal h3 {\n",
       "font-family: 'Titillium Web', sans-serif;\n",
       "/*font-size: 24pt;*/\n",
       "font-weight: bold;\n",
       "margin-bottom: 0.1em;\n",
       "margin-top: 0.5em;\n",
       "color:#595959;\n",
       "}\n",
       ".reveal h4 {\n",
       "font-family: 'Titillium Web', sans-serif;\n",
       "font-weight: bold;\n",
       "margin-bottom: 0.1em;\n",
       "margin-top: 0.5em;\n",
       "color:#595959;\n",
       "}\n",
       ".reveal .code_cell {\n",
       "    font-size: 92%;\n",
       "}\n",
       ".reveal code {\n",
       "font-family: 'Inconsolata', monospace;\n",
       "}\n",
       ".reveal pre {\n",
       "font-family: 'Inconsolata', monospace;\n",
       "}\n",
       "code {\n",
       "font-family: 'Inconsolata', monospace;\n",
       "}\n",
       "pre {\n",
       "font-family: 'Inconsolata', monospace;\n",
       "}\n",
       ".CodeMirror{\n",
       "font-family: \"Inconsolata\", monospace;\n",
       "}\n",
       "</style>\n"
      ],
      "text/plain": [
       "<IPython.core.display.HTML object>"
      ]
     },
     "execution_count": 1,
     "metadata": {},
     "output_type": "execute_result"
    }
   ],
   "source": [
    "# this code is here for cosmetic reasons\n",
    "from IPython.core.display import HTML\n",
    "from urllib.request import urlopen\n",
    "HTML(urlopen('https://raw.githubusercontent.com/lmarti/jupyter_custom/master/custom.include').read().decode('utf-8'))"
   ]
  },
  {
   "cell_type": "markdown",
   "metadata": {
    "collapsed": true
   },
   "source": [
    " ---"
   ]
  }
 ],
 "metadata": {
  "kernelspec": {
   "display_name": "Python 3",
   "language": "python",
   "name": "python3"
  },
  "language_info": {
   "codemirror_mode": {
    "name": "ipython",
    "version": 3
   },
   "file_extension": ".py",
   "mimetype": "text/x-python",
   "name": "python",
   "nbconvert_exporter": "python",
   "pygments_lexer": "ipython3",
   "version": "3.6.3"
  }
 },
 "nbformat": 4,
 "nbformat_minor": 1
}
