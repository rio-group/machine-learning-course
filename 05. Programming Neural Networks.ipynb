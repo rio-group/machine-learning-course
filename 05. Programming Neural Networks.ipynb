{
 "cells": [
  {
   "cell_type": "markdown",
   "metadata": {},
   "source": [
    "<div align='left' style=\"width:400px;height:120px;overflow:hidden;\">\n",
    "<img align='left' style='display: block;height: 92%' src='imgs/riotext.png' alt='RIO logo' title='RIO logo'/>\n",
    "</div>"
   ]
  },
  {
   "cell_type": "markdown",
   "metadata": {},
   "source": [
    "## Machine Learning\n",
    "\n",
    "# 5. Programming Neural Networks with TensorFlow\n",
    "\n",
    "### by [Nayat Sánchez Pi](http://www.nayatsanchezpi.com) and [Luis Martí](http://lmarti.com)\n",
    "$\\renewcommand{\\vec}[1]{\\boldsymbol{#1}}$"
   ]
  },
  {
   "cell_type": "code",
   "execution_count": 1,
   "metadata": {
    "ExecuteTime": {
     "end_time": "2018-05-02T02:00:53.693041Z",
     "start_time": "2018-05-02T02:00:53.025604Z"
    }
   },
   "outputs": [],
   "source": [
    "import matplotlib.pyplot as plt\n",
    "import numpy as np\n",
    "import random, os, time\n",
    "\n",
    "# nice progress bars\n",
    "from tqdm import tnrange\n",
    "%matplotlib inline"
   ]
  },
  {
   "cell_type": "code",
   "execution_count": 2,
   "metadata": {
    "ExecuteTime": {
     "end_time": "2018-05-02T02:00:58.887005Z",
     "start_time": "2018-05-02T02:00:58.877021Z"
    }
   },
   "outputs": [],
   "source": [
    "# code for rendering a TF graph inline in a Jupyter notebook\n",
    "from IPython.display import clear_output, Image, display, HTML\n",
    "\n",
    "\n",
    "def strip_consts(graph_def, max_const_size=32):\n",
    "    \"\"\"Strip large constant values from graph_def.\"\"\"\n",
    "    strip_def = tf.GraphDef()\n",
    "    for n0 in graph_def.node:\n",
    "        n = strip_def.node.add()\n",
    "        n.MergeFrom(n0)\n",
    "        if n.op == 'Const':\n",
    "            tensor = n.attr['value'].tensor\n",
    "            size = len(tensor.tensor_content)\n",
    "            if size > max_const_size:\n",
    "                tensor.tensor_content = \"<stripped %d bytes>\" % size\n",
    "    return strip_def\n",
    "\n",
    "\n",
    "def show_graph(graph_def, max_const_size=32):\n",
    "    \"\"\"Visualize TensorFlow graph.\"\"\"\n",
    "    if hasattr(graph_def, 'as_graph_def'):\n",
    "        graph_def = graph_def.as_graph_def()\n",
    "    strip_def = strip_consts(graph_def, max_const_size=max_const_size)\n",
    "    code = \"\"\"\n",
    "        <script>\n",
    "          function load() {{\n",
    "            document.getElementById(\"{id}\").pbtxt = {data};\n",
    "          }}\n",
    "        </script>\n",
    "        <link rel=\"import\" href=\"https://tensorboard.appspot.com/tf-graph-basic.build.html\" onload=load()>\n",
    "        <div style=\"height:600px\">\n",
    "          <tf-graph-basic id=\"{id}\"></tf-graph-basic>\n",
    "        </div>\n",
    "    \"\"\".format(\n",
    "        data=repr(str(strip_def)), id='graph' + str(np.random.rand()))\n",
    "\n",
    "    iframe = \"\"\"\n",
    "        <iframe seamless style=\"width:1200px;height:620px;border:0\" srcdoc=\"{}\"></iframe>\n",
    "    \"\"\".format(code.replace('\"', '&quot;'))\n",
    "    display(HTML(iframe))"
   ]
  },
  {
   "cell_type": "markdown",
   "metadata": {
    "ExecuteTime": {
     "end_time": "2018-05-02T02:00:58.902225Z",
     "start_time": "2018-05-02T02:00:58.890203Z"
    }
   },
   "source": [
    "In this practical class we will review the use of TensorFlow for programming neural networks.\n",
    "* We will address the MNIST image classification problem.\n",
    "* Program a logistic regression classifier.\n",
    "* Program a multi-layer Perceptron.\n",
    "* Experiment with different activation functions.\n",
    "* Use TensorBoard for logging results."
   ]
  },
  {
   "cell_type": "markdown",
   "metadata": {},
   "source": [
    "## Loading MNIST data"
   ]
  },
  {
   "cell_type": "markdown",
   "metadata": {},
   "source": [
    "TensorFlow includes a MNIST dataset loader for the sake of learning and experimentation (our case!). If necessary it will download the data."
   ]
  },
  {
   "cell_type": "code",
   "execution_count": 3,
   "metadata": {
    "ExecuteTime": {
     "end_time": "2018-05-02T02:00:56.198409Z",
     "start_time": "2018-05-02T02:00:53.696263Z"
    }
   },
   "outputs": [],
   "source": [
    "import tensorflow as tf"
   ]
  },
  {
   "cell_type": "code",
   "execution_count": 4,
   "metadata": {},
   "outputs": [],
   "source": [
    "## Uncomment to use GPU\n",
    "# tf.device('/device:GPU:0')"
   ]
  },
  {
   "cell_type": "code",
   "execution_count": 5,
   "metadata": {
    "ExecuteTime": {
     "end_time": "2018-05-02T02:00:58.870070Z",
     "start_time": "2018-05-02T02:00:56.201233Z"
    }
   },
   "outputs": [],
   "source": [
    "from tensorflow.examples.tutorials.mnist import input_data"
   ]
  },
  {
   "cell_type": "code",
   "execution_count": 6,
   "metadata": {
    "ExecuteTime": {
     "end_time": "2018-05-02T02:00:59.872837Z",
     "start_time": "2018-05-02T02:00:58.905065Z"
    }
   },
   "outputs": [
    {
     "name": "stdout",
     "output_type": "stream",
     "text": [
      "Extracting data/train-images-idx3-ubyte.gz\n",
      "Extracting data/train-labels-idx1-ubyte.gz\n",
      "Extracting data/t10k-images-idx3-ubyte.gz\n",
      "Extracting data/t10k-labels-idx1-ubyte.gz\n"
     ]
    }
   ],
   "source": [
    "mnist = input_data.read_data_sets('data', one_hot=True)"
   ]
  },
  {
   "cell_type": "markdown",
   "metadata": {},
   "source": [
    "The MNIST data is split into three parts: \n",
    "* `mnist.train`: 55000 data points of training data\n",
    "* `mnist.test`: 10000 points of test data, and \n",
    "* `mnist.validation`: 5000 points of validation data."
   ]
  },
  {
   "cell_type": "markdown",
   "metadata": {},
   "source": [
    "<div class=\"container-fluid\">\n",
    "  <div class=\"row\">\n",
    "      <div class=\"col-md-2\" align='center'>\n",
    "      </div>\n",
    "      <div class=\"col-md-8\">\n",
    "              <img src='https://www.tensorflow.org/versions/r1.1/images/mnist-train-xs.png'/>\n",
    "      </div>\n",
    "      <div class=\"col-md-2\" align='center'>\n",
    "      </div>\n",
    "  </div>\n",
    "</div>"
   ]
  },
  {
   "cell_type": "markdown",
   "metadata": {},
   "source": [
    "Each image is 28 pixels by 28 pixels. We can interpret this as a big array of numbers:\n",
    "\n",
    "<div class=\"container-fluid\">\n",
    "  <div class=\"row\">\n",
    "      <div class=\"col-md-2\" align='center'>\n",
    "      </div>\n",
    "      <div class=\"col-md-8\">\n",
    "              <img src='https://www.tensorflow.org/versions/r1.1/images/MNIST-Matrix.png'/>\n",
    "      </div>\n",
    "      <div class=\"col-md-2\" align='center'>\n",
    "      </div>\n",
    "  </div>\n",
    "</div>"
   ]
  },
  {
   "cell_type": "markdown",
   "metadata": {},
   "source": [
    "* We can flatten this array into a vector of 28x28 = 784 numbers. \n",
    "* Flattening the data throws away information about the 2D structure of the image. \n",
    "* Computer vision methods like Convolutional Neural Networks exploit this structure. \n",
    "* The simple methods we will be using here, won't,"
   ]
  },
  {
   "cell_type": "code",
   "execution_count": 7,
   "metadata": {
    "ExecuteTime": {
     "end_time": "2018-05-02T02:00:59.885009Z",
     "start_time": "2018-05-02T02:00:59.875745Z"
    }
   },
   "outputs": [
    {
     "data": {
      "text/plain": [
       "(55000, 784)"
      ]
     },
     "execution_count": 7,
     "metadata": {},
     "output_type": "execute_result"
    }
   ],
   "source": [
    "mnist.train.images.shape"
   ]
  },
  {
   "cell_type": "markdown",
   "metadata": {},
   "source": [
    "For the purposes of this tutorial, we're going to want our labels as \"one-hot vectors\".\n",
    "* A one-hot vector is a vector which is $0$ in most dimensions, and $1$ in a single dimension. \n",
    "* In this case, the $i$th digit will be represented as a vector which is $1$ in the $i$th dimension. \n",
    "* For example, $3$ would be $[0,0,1,0,0,0,0,0,0,0,0]$. \n",
    "* Consequently, `mnist.train.labels` is a [55000, 10] array of floats."
   ]
  },
  {
   "cell_type": "code",
   "execution_count": 8,
   "metadata": {
    "ExecuteTime": {
     "end_time": "2018-05-02T02:00:59.897833Z",
     "start_time": "2018-05-02T02:00:59.888620Z"
    }
   },
   "outputs": [
    {
     "data": {
      "text/plain": [
       "(55000, 10)"
      ]
     },
     "execution_count": 8,
     "metadata": {},
     "output_type": "execute_result"
    }
   ],
   "source": [
    "mnist.train.labels.shape"
   ]
  },
  {
   "cell_type": "code",
   "execution_count": 9,
   "metadata": {
    "ExecuteTime": {
     "end_time": "2018-05-02T02:00:59.909564Z",
     "start_time": "2018-05-02T02:00:59.901149Z"
    }
   },
   "outputs": [],
   "source": [
    "def display_digit(num, mnist):\n",
    "    label = mnist.train.labels[num].argmax(axis=0)\n",
    "    image = mnist.train.images[num].reshape([28, 28])\n",
    "    plt.title('Id: {};\\n$l$: {} - {}'.format(\n",
    "        num, label, mnist.train.labels[num]))\n",
    "    plt.imshow(image, cmap=plt.get_cmap('gray_r'))"
   ]
  },
  {
   "cell_type": "code",
   "execution_count": 10,
   "metadata": {
    "ExecuteTime": {
     "end_time": "2018-05-02T02:01:00.293626Z",
     "start_time": "2018-05-02T02:00:59.913192Z"
    }
   },
   "outputs": [
    {
     "data": {
      "image/png": "[encoded data removed]",
      "text/plain": [
       "<Figure size 432x288 with 1 Axes>"
      ]
     },
     "metadata": {},
     "output_type": "display_data"
    }
   ],
   "source": [
    "display_digit(random.randint(0, len(mnist.train.images)), mnist)"
   ]
  },
  {
   "cell_type": "code",
   "execution_count": 11,
   "metadata": {
    "ExecuteTime": {
     "end_time": "2018-05-02T02:01:00.302562Z",
     "start_time": "2018-05-02T02:01:00.296659Z"
    }
   },
   "outputs": [],
   "source": [
    "def display_mult_flat(start, stop, mnist):\n",
    "    images = mnist.train.images[start].reshape([1, 784])\n",
    "    for i in range(start + 1, stop):\n",
    "        images = np.concatenate((images,\n",
    "                                 mnist.train.images[i].reshape([1, 784])))\n",
    "    plt.figure(figsize=(11, 6))\n",
    "    plt.imshow(images.T, cmap=plt.get_cmap('gray_r'), aspect='auto')\n",
    "    plt.xlabel('Dataset index')\n",
    "    plt.ylabel('Input vector $\\mathbf{x}$')"
   ]
  },
  {
   "cell_type": "code",
   "execution_count": 12,
   "metadata": {
    "ExecuteTime": {
     "end_time": "2018-05-02T02:01:00.649724Z",
     "start_time": "2018-05-02T02:01:00.306078Z"
    }
   },
   "outputs": [
    {
     "data": {
      "image/png": "[encoded data removed]",
      "text/plain": [
       "<Figure size 792x432 with 1 Axes>"
      ]
     },
     "metadata": {},
     "output_type": "display_data"
    }
   ],
   "source": [
    "display_mult_flat(0, 100, mnist)"
   ]
  },
  {
   "cell_type": "markdown",
   "metadata": {},
   "source": [
    "## Implementing Logistic regression"
   ]
  },
  {
   "cell_type": "markdown",
   "metadata": {},
   "source": [
    "You can picture our softmax regression as looking something like the following (but with a lot more $x$s):\n",
    "\n",
    "* For each output, we compute a weighted sum of the $x_i$s add a bias, and then apply softmax."
   ]
  },
  {
   "cell_type": "markdown",
   "metadata": {},
   "source": [
    "`X` isn't a specific value. It's a placeholder, a value that we'll input when we ask TensorFlow to run a computation. \n",
    "* We want to be able to input any number of MNIST images, each flattened into a 784-dimensional vector. \n",
    "* We represent this as a 2-D tensor of floating-point numbers, with a shape `[None, 784]`. \n",
    "* Here `None` means that a dimension can be of any length."
   ]
  },
  {
   "cell_type": "code",
   "execution_count": 13,
   "metadata": {
    "ExecuteTime": {
     "end_time": "2018-05-02T02:01:00.657340Z",
     "start_time": "2018-05-02T02:01:00.652627Z"
    }
   },
   "outputs": [],
   "source": [
    "X = tf.placeholder(tf.float32, [None, 784], name='inputs')"
   ]
  },
  {
   "cell_type": "markdown",
   "metadata": {},
   "source": [
    "We also need the weights and biases for our model. \n",
    "* We could imagine treating these like additional inputs, but TensorFlow has an even better way to handle it: `tf.Variable`. \n",
    "* A `tf.Variable` is a modifiable tensor that lives in TensorFlow's graph of interacting operations. \n",
    "* It can be used and even modified by the computation. \n",
    "* For machine learning applications, the model parameters are `tf.Variable`s."
   ]
  },
  {
   "cell_type": "code",
   "execution_count": 14,
   "metadata": {
    "ExecuteTime": {
     "end_time": "2018-05-02T02:01:00.670677Z",
     "start_time": "2018-05-02T02:01:00.660183Z"
    }
   },
   "outputs": [],
   "source": [
    "W = tf.Variable(tf.zeros([784, 10]), name='weights')\n",
    "b = tf.Variable(tf.zeros([10]), name='biases')"
   ]
  },
  {
   "cell_type": "markdown",
   "metadata": {},
   "source": [
    "We can now implement our model. It only takes one line to define it!"
   ]
  },
  {
   "cell_type": "code",
   "execution_count": 15,
   "metadata": {
    "ExecuteTime": {
     "end_time": "2018-05-02T02:01:00.682540Z",
     "start_time": "2018-05-02T02:01:00.674840Z"
    }
   },
   "outputs": [],
   "source": [
    "y_hat = tf.nn.softmax(tf.matmul(X, W) + b, name='y_hat')"
   ]
  },
  {
   "cell_type": "markdown",
   "metadata": {},
   "source": [
    "Cross-entropy arises from thinking about information compressing codes in information theory but it winds up being an important idea in lots of areas, from gambling to machine learning. It's defined as:\n",
    "\n",
    "$$ J_{\\Psi}(\\vec{y}, \\hat{\\vec{y}}) = \\frac{1}{\\left|\\Psi\\right|}\\sum_{\\forall \\langle\\vec{x}^{(i)},\\vec{y}^{(i)}\\rangle\\in\\Psi}-\\sum_{j}{y^{(i)}_{j}\\log\\left(\\hat{y}_j\\left(\\vec{x}^{(i)}\\right)\\right)}. $$"
   ]
  },
  {
   "cell_type": "markdown",
   "metadata": {},
   "source": [
    "To implement cross-entropy we need to first add a new placeholder to supply the correct answers:"
   ]
  },
  {
   "cell_type": "code",
   "execution_count": 16,
   "metadata": {
    "ExecuteTime": {
     "end_time": "2018-05-02T02:01:00.691067Z",
     "start_time": "2018-05-02T02:01:00.686088Z"
    }
   },
   "outputs": [],
   "source": [
    "y = tf.placeholder(tf.float32, [None, 10], 'y_expected')"
   ]
  },
  {
   "cell_type": "code",
   "execution_count": 17,
   "metadata": {
    "ExecuteTime": {
     "end_time": "2018-05-02T02:01:00.705993Z",
     "start_time": "2018-05-02T02:01:00.694309Z"
    }
   },
   "outputs": [],
   "source": [
    "loss = tf.reduce_mean(\n",
    "    -tf.reduce_sum(\n",
    "        y * tf.log(tf.clip_by_value(y_hat, 1e-10, 1.0)), name='cross_entropy', reduction_indices=1),\n",
    "    name='logreg_loss')"
   ]
  },
  {
   "cell_type": "markdown",
   "metadata": {},
   "source": [
    "1. `tf.log()` computes the logarithm of each element of `y_hat`,\n",
    "2. we multiply each element of `y` with the corresponding element of `tf.log(y_hat)`.\n",
    "3. the `tf.clip_by_value(y_hat, 1e-10, 1.0)` statement is meant for avoiding a $\\log(0)$ which is a NaN.\n",
    "4. `tf.reduce_sum()` adds the elements in the second dimension due to the `reduction_indices=[1]` parameter.\n",
    "5. Finally, tf.reduce_mean computes the mean over all the examples in the batch."
   ]
  },
  {
   "cell_type": "markdown",
   "metadata": {},
   "source": [
    "Let's examine the graph of the operations we have just coded. *This might not render properly in Safari.*"
   ]
  },
  {
   "cell_type": "code",
   "execution_count": 18,
   "metadata": {
    "ExecuteTime": {
     "end_time": "2018-05-02T02:01:00.718626Z",
     "start_time": "2018-05-02T02:01:00.708957Z"
    }
   },
   "outputs": [
    {
     "data": {
      "text/html": [
       "\n",
       "        <iframe seamless style=\"width:1200px;height:620px;border:0\" srcdoc=\"\n",
       "        <script>\n",
       "          function load() {\n",
       "            document.getElementById(&quot;graph0.20991178022451817&quot;).pbtxt = 'node {\\n  name: &quot;inputs&quot;\\n  op: &quot;Placeholder&quot;\\n  attr {\\n    key: &quot;dtype&quot;\\n    value {\\n      type: DT_FLOAT\\n    }\\n  }\\n  attr {\\n    key: &quot;shape&quot;\\n    value {\\n      shape {\\n      }\\n    }\\n  }\\n}\\nnode {\\n  name: &quot;zeros&quot;\\n  op: &quot;Const&quot;\\n  attr {\\n    key: &quot;dtype&quot;\\n    value {\\n      type: DT_FLOAT\\n    }\\n  }\\n  attr {\\n    key: &quot;value&quot;\\n    value {\\n      tensor {\\n        dtype: DT_FLOAT\\n        tensor_shape {\\n          dim {\\n            size: 784\\n          }\\n          dim {\\n            size: 10\\n          }\\n        }\\n        float_val: 0.0\\n      }\\n    }\\n  }\\n}\\nnode {\\n  name: &quot;weights&quot;\\n  op: &quot;VariableV2&quot;\\n  attr {\\n    key: &quot;container&quot;\\n    value {\\n      s: &quot;&quot;\\n    }\\n  }\\n  attr {\\n    key: &quot;dtype&quot;\\n    value {\\n      type: DT_FLOAT\\n    }\\n  }\\n  attr {\\n    key: &quot;shape&quot;\\n    value {\\n      shape {\\n        dim {\\n          size: 784\\n        }\\n        dim {\\n          size: 10\\n        }\\n      }\\n    }\\n  }\\n  attr {\\n    key: &quot;shared_name&quot;\\n    value {\\n      s: &quot;&quot;\\n    }\\n  }\\n}\\nnode {\\n  name: &quot;weights/Assign&quot;\\n  op: &quot;Assign&quot;\\n  input: &quot;weights&quot;\\n  input: &quot;zeros&quot;\\n  attr {\\n    key: &quot;T&quot;\\n    value {\\n      type: DT_FLOAT\\n    }\\n  }\\n  attr {\\n    key: &quot;_class&quot;\\n    value {\\n      list {\\n        s: &quot;loc:@weights&quot;\\n      }\\n    }\\n  }\\n  attr {\\n    key: &quot;use_locking&quot;\\n    value {\\n      b: true\\n    }\\n  }\\n  attr {\\n    key: &quot;validate_shape&quot;\\n    value {\\n      b: true\\n    }\\n  }\\n}\\nnode {\\n  name: &quot;weights/read&quot;\\n  op: &quot;Identity&quot;\\n  input: &quot;weights&quot;\\n  attr {\\n    key: &quot;T&quot;\\n    value {\\n      type: DT_FLOAT\\n    }\\n  }\\n  attr {\\n    key: &quot;_class&quot;\\n    value {\\n      list {\\n        s: &quot;loc:@weights&quot;\\n      }\\n    }\\n  }\\n}\\nnode {\\n  name: &quot;zeros_1&quot;\\n  op: &quot;Const&quot;\\n  attr {\\n    key: &quot;dtype&quot;\\n    value {\\n      type: DT_FLOAT\\n    }\\n  }\\n  attr {\\n    key: &quot;value&quot;\\n    value {\\n      tensor {\\n        dtype: DT_FLOAT\\n        tensor_shape {\\n          dim {\\n            size: 10\\n          }\\n        }\\n        float_val: 0.0\\n      }\\n    }\\n  }\\n}\\nnode {\\n  name: &quot;biases&quot;\\n  op: &quot;VariableV2&quot;\\n  attr {\\n    key: &quot;container&quot;\\n    value {\\n      s: &quot;&quot;\\n    }\\n  }\\n  attr {\\n    key: &quot;dtype&quot;\\n    value {\\n      type: DT_FLOAT\\n    }\\n  }\\n  attr {\\n    key: &quot;shape&quot;\\n    value {\\n      shape {\\n        dim {\\n          size: 10\\n        }\\n      }\\n    }\\n  }\\n  attr {\\n    key: &quot;shared_name&quot;\\n    value {\\n      s: &quot;&quot;\\n    }\\n  }\\n}\\nnode {\\n  name: &quot;biases/Assign&quot;\\n  op: &quot;Assign&quot;\\n  input: &quot;biases&quot;\\n  input: &quot;zeros_1&quot;\\n  attr {\\n    key: &quot;T&quot;\\n    value {\\n      type: DT_FLOAT\\n    }\\n  }\\n  attr {\\n    key: &quot;_class&quot;\\n    value {\\n      list {\\n        s: &quot;loc:@biases&quot;\\n      }\\n    }\\n  }\\n  attr {\\n    key: &quot;use_locking&quot;\\n    value {\\n      b: true\\n    }\\n  }\\n  attr {\\n    key: &quot;validate_shape&quot;\\n    value {\\n      b: true\\n    }\\n  }\\n}\\nnode {\\n  name: &quot;biases/read&quot;\\n  op: &quot;Identity&quot;\\n  input: &quot;biases&quot;\\n  attr {\\n    key: &quot;T&quot;\\n    value {\\n      type: DT_FLOAT\\n    }\\n  }\\n  attr {\\n    key: &quot;_class&quot;\\n    value {\\n      list {\\n        s: &quot;loc:@biases&quot;\\n      }\\n    }\\n  }\\n}\\nnode {\\n  name: &quot;MatMul&quot;\\n  op: &quot;MatMul&quot;\\n  input: &quot;inputs&quot;\\n  input: &quot;weights/read&quot;\\n  attr {\\n    key: &quot;T&quot;\\n    value {\\n      type: DT_FLOAT\\n    }\\n  }\\n  attr {\\n    key: &quot;transpose_a&quot;\\n    value {\\n      b: false\\n    }\\n  }\\n  attr {\\n    key: &quot;transpose_b&quot;\\n    value {\\n      b: false\\n    }\\n  }\\n}\\nnode {\\n  name: &quot;add&quot;\\n  op: &quot;Add&quot;\\n  input: &quot;MatMul&quot;\\n  input: &quot;biases/read&quot;\\n  attr {\\n    key: &quot;T&quot;\\n    value {\\n      type: DT_FLOAT\\n    }\\n  }\\n}\\nnode {\\n  name: &quot;y_hat&quot;\\n  op: &quot;Softmax&quot;\\n  input: &quot;add&quot;\\n  attr {\\n    key: &quot;T&quot;\\n    value {\\n      type: DT_FLOAT\\n    }\\n  }\\n}\\nnode {\\n  name: &quot;y_expected&quot;\\n  op: &quot;Placeholder&quot;\\n  attr {\\n    key: &quot;dtype&quot;\\n    value {\\n      type: DT_FLOAT\\n    }\\n  }\\n  attr {\\n    key: &quot;shape&quot;\\n    value {\\n      shape {\\n      }\\n    }\\n  }\\n}\\nnode {\\n  name: &quot;clip_by_value/Minimum/y&quot;\\n  op: &quot;Const&quot;\\n  attr {\\n    key: &quot;dtype&quot;\\n    value {\\n      type: DT_FLOAT\\n    }\\n  }\\n  attr {\\n    key: &quot;value&quot;\\n    value {\\n      tensor {\\n        dtype: DT_FLOAT\\n        tensor_shape {\\n        }\\n        float_val: 1.0\\n      }\\n    }\\n  }\\n}\\nnode {\\n  name: &quot;clip_by_value/Minimum&quot;\\n  op: &quot;Minimum&quot;\\n  input: &quot;y_hat&quot;\\n  input: &quot;clip_by_value/Minimum/y&quot;\\n  attr {\\n    key: &quot;T&quot;\\n    value {\\n      type: DT_FLOAT\\n    }\\n  }\\n}\\nnode {\\n  name: &quot;clip_by_value/y&quot;\\n  op: &quot;Const&quot;\\n  attr {\\n    key: &quot;dtype&quot;\\n    value {\\n      type: DT_FLOAT\\n    }\\n  }\\n  attr {\\n    key: &quot;value&quot;\\n    value {\\n      tensor {\\n        dtype: DT_FLOAT\\n        tensor_shape {\\n        }\\n        float_val: 1.000000013351432e-10\\n      }\\n    }\\n  }\\n}\\nnode {\\n  name: &quot;clip_by_value&quot;\\n  op: &quot;Maximum&quot;\\n  input: &quot;clip_by_value/Minimum&quot;\\n  input: &quot;clip_by_value/y&quot;\\n  attr {\\n    key: &quot;T&quot;\\n    value {\\n      type: DT_FLOAT\\n    }\\n  }\\n}\\nnode {\\n  name: &quot;Log&quot;\\n  op: &quot;Log&quot;\\n  input: &quot;clip_by_value&quot;\\n  attr {\\n    key: &quot;T&quot;\\n    value {\\n      type: DT_FLOAT\\n    }\\n  }\\n}\\nnode {\\n  name: &quot;mul&quot;\\n  op: &quot;Mul&quot;\\n  input: &quot;y_expected&quot;\\n  input: &quot;Log&quot;\\n  attr {\\n    key: &quot;T&quot;\\n    value {\\n      type: DT_FLOAT\\n    }\\n  }\\n}\\nnode {\\n  name: &quot;cross_entropy/reduction_indices&quot;\\n  op: &quot;Const&quot;\\n  attr {\\n    key: &quot;dtype&quot;\\n    value {\\n      type: DT_INT32\\n    }\\n  }\\n  attr {\\n    key: &quot;value&quot;\\n    value {\\n      tensor {\\n        dtype: DT_INT32\\n        tensor_shape {\\n        }\\n        int_val: 1\\n      }\\n    }\\n  }\\n}\\nnode {\\n  name: &quot;cross_entropy&quot;\\n  op: &quot;Sum&quot;\\n  input: &quot;mul&quot;\\n  input: &quot;cross_entropy/reduction_indices&quot;\\n  attr {\\n    key: &quot;T&quot;\\n    value {\\n      type: DT_FLOAT\\n    }\\n  }\\n  attr {\\n    key: &quot;Tidx&quot;\\n    value {\\n      type: DT_INT32\\n    }\\n  }\\n  attr {\\n    key: &quot;keep_dims&quot;\\n    value {\\n      b: false\\n    }\\n  }\\n}\\nnode {\\n  name: &quot;Neg&quot;\\n  op: &quot;Neg&quot;\\n  input: &quot;cross_entropy&quot;\\n  attr {\\n    key: &quot;T&quot;\\n    value {\\n      type: DT_FLOAT\\n    }\\n  }\\n}\\nnode {\\n  name: &quot;Const&quot;\\n  op: &quot;Const&quot;\\n  attr {\\n    key: &quot;dtype&quot;\\n    value {\\n      type: DT_INT32\\n    }\\n  }\\n  attr {\\n    key: &quot;value&quot;\\n    value {\\n      tensor {\\n        dtype: DT_INT32\\n        tensor_shape {\\n          dim {\\n            size: 1\\n          }\\n        }\\n        int_val: 0\\n      }\\n    }\\n  }\\n}\\nnode {\\n  name: &quot;logreg_loss&quot;\\n  op: &quot;Mean&quot;\\n  input: &quot;Neg&quot;\\n  input: &quot;Const&quot;\\n  attr {\\n    key: &quot;T&quot;\\n    value {\\n      type: DT_FLOAT\\n    }\\n  }\\n  attr {\\n    key: &quot;Tidx&quot;\\n    value {\\n      type: DT_INT32\\n    }\\n  }\\n  attr {\\n    key: &quot;keep_dims&quot;\\n    value {\\n      b: false\\n    }\\n  }\\n}\\n';\n",
       "          }\n",
       "        </script>\n",
       "        <link rel=&quot;import&quot; href=&quot;https://tensorboard.appspot.com/tf-graph-basic.build.html&quot; onload=load()>\n",
       "        <div style=&quot;height:600px&quot;>\n",
       "          <tf-graph-basic id=&quot;graph0.20991178022451817&quot;></tf-graph-basic>\n",
       "        </div>\n",
       "    \"></iframe>\n",
       "    "
      ],
      "text/plain": [
       "<IPython.core.display.HTML object>"
      ]
     },
     "metadata": {},
     "output_type": "display_data"
    }
   ],
   "source": [
    "show_graph(tf.get_default_graph())"
   ]
  },
  {
   "cell_type": "markdown",
   "metadata": {},
   "source": [
    "## Next step: Training"
   ]
  },
  {
   "cell_type": "markdown",
   "metadata": {},
   "source": [
    "Next, we ask TensorFlow to minimize cross_entropy using the gradient descent algorithm.\n",
    "\n",
    "*Further exploration tips:* Experiment using other optimization algorithms present in the `tf.train` module."
   ]
  },
  {
   "cell_type": "code",
   "execution_count": 19,
   "metadata": {
    "ExecuteTime": {
     "end_time": "2018-05-02T02:01:00.733163Z",
     "start_time": "2018-05-02T02:01:00.721944Z"
    }
   },
   "outputs": [],
   "source": [
    "def train_model_sgd(loss_function,\n",
    "                    learning_rate,\n",
    "                    batch_size,\n",
    "                    max_epochs,\n",
    "                    print_freq=10):\n",
    "    optimizer = tf.train.GradientDescentOptimizer(learning_rate).minimize(\n",
    "        loss_function)\n",
    "\n",
    "    num_batches = mnist.train.num_examples // batch_size\n",
    "\n",
    "    # Start training\n",
    "    with tf.Session() as sess:\n",
    "\n",
    "        # Run the initializer\n",
    "        sess.run(tf.global_variables_initializer())\n",
    "\n",
    "        for epoch in tnrange(max_epochs, desc='Epoch:'):\n",
    "            accum = 0\n",
    "            for batch in range(num_batches):\n",
    "                batch_xs, batch_ys = mnist.train.next_batch(batch_size)\n",
    "                _, c = sess.run(\n",
    "                    [optimizer, loss_function],\n",
    "                    feed_dict={\n",
    "                        X: batch_xs,\n",
    "                        y: batch_ys\n",
    "                    })\n",
    "                accum += c\n",
    "\n",
    "            if epoch % print_freq == 0:\n",
    "                print('Epoch {}, training loss: {}'.format(\n",
    "                    epoch + 1, accum / num_batches))\n",
    "\n",
    "        test_loss = sess.run(\n",
    "            loss_function,\n",
    "            feed_dict={\n",
    "                X: mnist.test.images,\n",
    "                y: mnist.test.labels\n",
    "            })\n",
    "\n",
    "        print('Test set loss: {}'.format(test_loss))"
   ]
  },
  {
   "cell_type": "markdown",
   "metadata": {},
   "source": [
    "We are now ready to train our classifier:"
   ]
  },
  {
   "cell_type": "code",
   "execution_count": 20,
   "metadata": {
    "ExecuteTime": {
     "end_time": "2018-05-02T02:01:00.740836Z",
     "start_time": "2018-05-02T02:01:00.736251Z"
    }
   },
   "outputs": [],
   "source": [
    "learning_rate = 0.5\n",
    "batch_size = 100\n",
    "max_epochs = 20"
   ]
  },
  {
   "cell_type": "code",
   "execution_count": 21,
   "metadata": {
    "ExecuteTime": {
     "end_time": "2018-05-02T02:01:14.601115Z",
     "start_time": "2018-05-02T02:01:00.745400Z"
    }
   },
   "outputs": [
    {
     "data": {
      "application/vnd.jupyter.widget-view+json": {
       "model_id": "55beb99d29754ece923cd21dad1d7279",
       "version_major": 2,
       "version_minor": 0
      },
      "text/plain": [
       "HBox(children=(IntProgress(value=0, description='Epoch:', max=20), HTML(value='')))"
      ]
     },
     "metadata": {},
     "output_type": "display_data"
    },
    {
     "name": "stdout",
     "output_type": "stream",
     "text": [
      "Epoch 1, training loss: 0.3998796918920495\n",
      "Epoch 2, training loss: 0.3097397803447463\n",
      "Epoch 3, training loss: 0.29569432148879227\n",
      "Epoch 4, training loss: 0.2865829070454294\n",
      "Epoch 5, training loss: 0.28123562781648204\n",
      "Epoch 6, training loss: 0.2777144649489359\n",
      "Epoch 7, training loss: 0.2749492767588659\n",
      "Epoch 8, training loss: 0.2716533203558488\n",
      "Epoch 9, training loss: 0.2698827165229754\n",
      "Epoch 10, training loss: 0.2682908943160014\n",
      "Epoch 11, training loss: 0.26629530811851676\n",
      "Epoch 12, training loss: 0.26436222417788074\n",
      "Epoch 13, training loss: 0.26310901752927085\n",
      "Epoch 14, training loss: 0.26208716477860106\n",
      "Epoch 15, training loss: 0.2600771647014401\n",
      "Epoch 16, training loss: 0.26050942621447826\n",
      "Epoch 17, training loss: 0.25833797973665323\n",
      "Epoch 18, training loss: 0.25825897151773625\n",
      "Epoch 19, training loss: 0.25760014722293073\n",
      "Epoch 20, training loss: 0.2564008441431956\n",
      "\n",
      "Test set loss: 0.27828800678253174\n"
     ]
    }
   ],
   "source": [
    "train_model_sgd(loss, learning_rate, batch_size, max_epochs, print_freq=1)"
   ]
  },
  {
   "cell_type": "markdown",
   "metadata": {},
   "source": [
    "## Reporting updates via TensorBoard"
   ]
  },
  {
   "cell_type": "markdown",
   "metadata": {},
   "source": [
    "Training a massive (deep) neural network can be:\n",
    "* complex, \n",
    "* time consuming, and \n",
    "* with a high degree of uncertainty. \n",
    "\n",
    "TensorBoard is a suite of visualization tools to make it easier to monitor, understand, debug, and optimize the learning process."
   ]
  },
  {
   "cell_type": "markdown",
   "metadata": {},
   "source": [
    "First, we need to define what quantities we want to track. In our case, accuracy and the loss."
   ]
  },
  {
   "cell_type": "code",
   "execution_count": 22,
   "metadata": {
    "ExecuteTime": {
     "end_time": "2018-05-02T02:01:14.621067Z",
     "start_time": "2018-05-02T02:01:14.604887Z"
    }
   },
   "outputs": [],
   "source": [
    "accuracy = tf.reduce_mean(\n",
    "    tf.to_float(tf.equal(tf.arg_max(y_hat, 1), tf.arg_max(y, 1))))\n",
    "a = tf.summary.scalar(\"accuracy\", accuracy)\n",
    "l = tf.summary.scalar(\"loss\", loss)\n",
    "summaries = tf.summary.merge((a, l))"
   ]
  },
  {
   "cell_type": "markdown",
   "metadata": {},
   "source": [
    "We now need improve out training function for reporting the results to TensorBoard."
   ]
  },
  {
   "cell_type": "code",
   "execution_count": 23,
   "metadata": {
    "ExecuteTime": {
     "end_time": "2018-05-02T12:19:06.310571Z",
     "start_time": "2018-05-02T12:19:06.283043Z"
    }
   },
   "outputs": [],
   "source": [
    "def train_model_sgd_tensorboard(loss_function,\n",
    "                                learning_rate,\n",
    "                                batch_size,\n",
    "                                max_epochs,\n",
    "                                print_freq=10,\n",
    "                                summaries=None,\n",
    "                                tag='unk',\n",
    "                                logs_path='logs'):\n",
    "    optimizer = tf.train.GradientDescentOptimizer(learning_rate).minimize(\n",
    "        loss_function)\n",
    "\n",
    "    num_batches = mnist.train.num_examples // batch_size\n",
    "\n",
    "    with tf.Session() as sess:\n",
    "        sess.run(tf.global_variables_initializer())\n",
    "\n",
    "        suffix = time.strftime('%Y%m%d-%H%M%S') + '-' + tag\n",
    "\n",
    "        writer_training = tf.summary.FileWriter(\n",
    "            os.path.join(logs_path, 'training', suffix), graph=sess.graph)\n",
    "        writer_validation = tf.summary.FileWriter(\n",
    "            os.path.join(logs_path, 'validation', suffix), graph=sess.graph)\n",
    "\n",
    "        for epoch in tnrange(max_epochs, desc='Epoch:'):\n",
    "            accum = 0\n",
    "            for batch in range(num_batches):\n",
    "                batch_xs, batch_ys = mnist.train.next_batch(batch_size)\n",
    "                _, c, summs = sess.run(\n",
    "                    [optimizer, loss_function, summaries],\n",
    "                    feed_dict={\n",
    "                        X: batch_xs,\n",
    "                        y: batch_ys\n",
    "                    })\n",
    "                accum += c\n",
    "                writer_training.add_summary(summs, epoch * num_batches + batch)\n",
    "\n",
    "            val_summs = sess.run(\n",
    "                summaries,\n",
    "                feed_dict={\n",
    "                    X: mnist.validation.images,\n",
    "                    y: mnist.validation.labels\n",
    "                })\n",
    "\n",
    "            writer_validation.add_summary(val_summs, (epoch + 1) * num_batches)\n",
    "\n",
    "            if epoch % print_freq == 0:\n",
    "                print('Epoch {}, training loss: {}.'.format(\n",
    "                    epoch, accum / num_batches))\n",
    "\n",
    "        writer_training.close()\n",
    "        writer_validation.close()\n",
    "\n",
    "        test_loss = sess.run(\n",
    "            loss_function,\n",
    "            feed_dict={\n",
    "                X: mnist.test.images,\n",
    "                y: mnist.test.labels\n",
    "            })\n",
    "\n",
    "        print('Test set loss: {}'.format(test_loss))"
   ]
  },
  {
   "cell_type": "markdown",
   "metadata": {},
   "source": [
    "Before proceeding we need to run tensorboard from the command line passing as argument the folder we are using for logging results:\n",
    "\n",
    "```bash\n",
    "$ tensorboard --logdir=logs\n",
    "```"
   ]
  },
  {
   "cell_type": "markdown",
   "metadata": {},
   "source": [
    "Let's repeat the training."
   ]
  },
  {
   "cell_type": "code",
   "execution_count": 24,
   "metadata": {
    "ExecuteTime": {
     "end_time": "2018-05-02T02:01:34.232011Z",
     "start_time": "2018-05-02T02:01:14.643836Z"
    }
   },
   "outputs": [
    {
     "data": {
      "application/vnd.jupyter.widget-view+json": {
       "model_id": "9da3c3a5cbb64db985ed0f5dad745f14",
       "version_major": 2,
       "version_minor": 0
      },
      "text/plain": [
       "HBox(children=(IntProgress(value=0, description='Epoch:', max=20), HTML(value='')))"
      ]
     },
     "metadata": {},
     "output_type": "display_data"
    },
    {
     "name": "stdout",
     "output_type": "stream",
     "text": [
      "Epoch 0, training loss: 0.40061040219935506.\n",
      "Epoch 1, training loss: 0.31053119469772683.\n",
      "Epoch 2, training loss: 0.293814892958511.\n",
      "Epoch 3, training loss: 0.28724375476891345.\n",
      "Epoch 4, training loss: 0.2810712426765399.\n",
      "Epoch 5, training loss: 0.27751626377755945.\n",
      "Epoch 6, training loss: 0.2738130528818477.\n",
      "Epoch 7, training loss: 0.2725402255627242.\n",
      "Epoch 8, training loss: 0.26927772190083155.\n",
      "Epoch 9, training loss: 0.2672062130949714.\n",
      "Epoch 10, training loss: 0.2655645806003701.\n",
      "Epoch 11, training loss: 0.2651162028312683.\n",
      "Epoch 12, training loss: 0.26326855622909284.\n",
      "Epoch 13, training loss: 0.2622323137250814.\n",
      "Epoch 14, training loss: 0.2613115574690429.\n",
      "Epoch 15, training loss: 0.26006238434802403.\n",
      "Epoch 16, training loss: 0.2592030907760967.\n",
      "Epoch 17, training loss: 0.25787571782415564.\n",
      "Epoch 18, training loss: 0.2567252761667425.\n",
      "Epoch 19, training loss: 0.25649006537415764.\n",
      "\n",
      "Test set loss: 0.27907589077949524\n",
      "CPU times: user 25.4 s, sys: 8.46 s, total: 33.9 s\n",
      "Wall time: 18.2 s\n"
     ]
    }
   ],
   "source": [
    "%%time\n",
    "train_model_sgd_tensorboard(\n",
    "    loss,\n",
    "    learning_rate,\n",
    "    batch_size,\n",
    "    max_epochs,\n",
    "    summaries=summaries,\n",
    "    print_freq=1,\n",
    "    tag='log-reg')"
   ]
  },
  {
   "cell_type": "markdown",
   "metadata": {},
   "source": [
    "## Coding a MLP"
   ]
  },
  {
   "cell_type": "code",
   "execution_count": 25,
   "metadata": {
    "ExecuteTime": {
     "end_time": "2018-05-02T02:01:34.239139Z",
     "start_time": "2018-05-02T02:01:34.235340Z"
    }
   },
   "outputs": [],
   "source": [
    "num_hidden_neurons = 20"
   ]
  },
  {
   "cell_type": "code",
   "execution_count": 26,
   "metadata": {
    "ExecuteTime": {
     "end_time": "2018-05-02T02:01:34.267725Z",
     "start_time": "2018-05-02T02:01:34.243330Z"
    }
   },
   "outputs": [],
   "source": [
    "W_hidden = tf.Variable(tf.random_normal([784, num_hidden_neurons], stddev=0.001), name='hidden_weights')\n",
    "b_hidden = tf.Variable(tf.random_normal([num_hidden_neurons], stddev=0.001), name='hidden_biases')"
   ]
  },
  {
   "cell_type": "code",
   "execution_count": 27,
   "metadata": {
    "ExecuteTime": {
     "end_time": "2018-05-02T02:01:34.279197Z",
     "start_time": "2018-05-02T02:01:34.271275Z"
    }
   },
   "outputs": [],
   "source": [
    "y_hidden = tf.nn.tanh(tf.matmul(X, W_hidden) + b_hidden, name='y_hidden')"
   ]
  },
  {
   "cell_type": "code",
   "execution_count": 28,
   "metadata": {
    "ExecuteTime": {
     "end_time": "2018-05-02T02:01:34.307997Z",
     "start_time": "2018-05-02T02:01:34.284160Z"
    }
   },
   "outputs": [],
   "source": [
    "W_output = tf.Variable(tf.random_normal([num_hidden_neurons, 10], stddev=0.001), name='output_weights')\n",
    "b_output = tf.Variable(tf.random_normal([10], stddev=0.001), name='output_biases')"
   ]
  },
  {
   "cell_type": "code",
   "execution_count": 29,
   "metadata": {
    "ExecuteTime": {
     "end_time": "2018-05-02T02:01:34.318920Z",
     "start_time": "2018-05-02T02:01:34.311502Z"
    }
   },
   "outputs": [],
   "source": [
    "y_hat = tf.nn.softmax(tf.matmul(y_hidden, W_output) + b_output, name='y_hat_nn')"
   ]
  },
  {
   "cell_type": "code",
   "execution_count": 30,
   "metadata": {
    "ExecuteTime": {
     "end_time": "2018-05-02T02:01:34.333642Z",
     "start_time": "2018-05-02T02:01:34.322484Z"
    }
   },
   "outputs": [],
   "source": [
    "# loss = tf.reduce_mean(\n",
    "#     -tf.reduce_sum(\n",
    "#         y * tf.log(y_hat+0.000000000000001), name='cross_entropy_nn', reduction_indices=1),\n",
    "#     name='mlp_loss')"
   ]
  },
  {
   "cell_type": "code",
   "execution_count": 31,
   "metadata": {
    "ExecuteTime": {
     "end_time": "2018-05-02T02:02:56.815552Z",
     "start_time": "2018-05-02T02:02:56.793222Z"
    }
   },
   "outputs": [],
   "source": [
    "#accuracy = tf.reduce_mean(tf.to_float(tf.equal(tf.arg_max(y_hat, 1), tf.arg_max(y, 1))))\n",
    "#a = tf.summary.scalar(\"accuracy\", accuracy)\n",
    "#b = tf.summary.scalar(\"loss\", loss)\n",
    "#summaries = tf.summary.merge((a, b))"
   ]
  },
  {
   "cell_type": "code",
   "execution_count": 32,
   "metadata": {
    "ExecuteTime": {
     "end_time": "2018-05-02T02:06:20.520288Z",
     "start_time": "2018-05-02T02:02:59.613792Z"
    }
   },
   "outputs": [
    {
     "data": {
      "application/vnd.jupyter.widget-view+json": {
       "model_id": "b16bce43569f4013ac5d51ab75cbaa3f",
       "version_major": 2,
       "version_minor": 0
      },
      "text/plain": [
       "HBox(children=(IntProgress(value=0, description='Epoch:', max=200), HTML(value='')))"
      ]
     },
     "metadata": {},
     "output_type": "display_data"
    },
    {
     "name": "stdout",
     "output_type": "stream",
     "text": [
      "Epoch 0, training loss: 0.3998267641392621.\n",
      "Epoch 10, training loss: 0.26544474588199096.\n",
      "Epoch 20, training loss: 0.25651880896226925.\n",
      "Epoch 30, training loss: 0.25044760970906776.\n",
      "Epoch 40, training loss: 0.24684746763922952.\n",
      "Epoch 50, training loss: 0.24416154503822327.\n",
      "Epoch 60, training loss: 0.24165729835629463.\n",
      "Epoch 70, training loss: 0.240639235438271.\n",
      "Epoch 80, training loss: 0.23907485394315287.\n",
      "Epoch 90, training loss: 0.23779703974723815.\n",
      "Epoch 100, training loss: 0.2373475071516904.\n",
      "Epoch 110, training loss: 0.23576932229778982.\n",
      "Epoch 120, training loss: 0.2352442883767865.\n",
      "Epoch 130, training loss: 0.23428280677307736.\n",
      "Epoch 140, training loss: 0.23334349036216737.\n",
      "Epoch 150, training loss: 0.233470766490156.\n",
      "Epoch 160, training loss: 0.23206957746635784.\n",
      "Epoch 170, training loss: 0.2326464376530864.\n",
      "Epoch 180, training loss: 0.23099768287756225.\n",
      "Epoch 190, training loss: 0.23016047423536126.\n",
      "\n",
      "Test set loss: 0.28763970732688904\n",
      "CPU times: user 4min 21s, sys: 1min 19s, total: 5min 40s\n",
      "Wall time: 3min 19s\n"
     ]
    }
   ],
   "source": [
    "%%time\n",
    "train_model_sgd_tensorboard(loss, learning_rate, batch_size, 200, summaries=summaries, tag='mlp')"
   ]
  },
  {
   "cell_type": "markdown",
   "metadata": {},
   "source": [
    "We can clearly observe overfitting taking place!"
   ]
  },
  {
   "cell_type": "markdown",
   "metadata": {},
   "source": [
    "<div class=\"container-fluid\">\n",
    "  <div class=\"row\">\n",
    "      <div class=\"col-md-2\" align='center'>\n",
    "      </div>\n",
    "      <div class=\"col-md-8\">\n",
    "              <img src='imgs/05/overfitting.png'/>\n",
    "      </div>\n",
    "      <div class=\"col-md-2\" align='center'>\n",
    "      </div>\n",
    "  </div>\n",
    "</div>"
   ]
  },
  {
   "cell_type": "markdown",
   "metadata": {},
   "source": [
    "## Impact of other activation functions"
   ]
  },
  {
   "cell_type": "markdown",
   "metadata": {},
   "source": [
    "Let's try the ReLU activation function that we saw in class. Remember that ReLU is defined as:\n",
    "\n",
    "$$\n",
    "\\hat{y} = \\max(0, net).\n",
    "$$"
   ]
  },
  {
   "cell_type": "code",
   "execution_count": 33,
   "metadata": {
    "ExecuteTime": {
     "end_time": "2018-05-02T02:01:35.112317Z",
     "start_time": "2018-05-02T02:01:35.105011Z"
    }
   },
   "outputs": [],
   "source": [
    "num_hidden_neurons = 40\n",
    "W_hidden = tf.Variable(tf.random_normal([784, num_hidden_neurons], stddev=0.001), name='hidden_weights')\n",
    "b_hidden = tf.Variable(tf.random_normal([num_hidden_neurons], stddev=0.001), name='hidden_biases')\n",
    "y_hidden = tf.nn.relu(tf.matmul(X, W_hidden) + b_hidden, name='y_hidden')\n",
    "W_output = tf.Variable(tf.random_normal([num_hidden_neurons, 10], stddev=0.001), name='output_weights')\n",
    "b_output = tf.Variable(tf.random_normal([10], stddev=0.001), name='output_biases')\n",
    "y_hat = tf.nn.softmax(tf.matmul(y_hidden, W_output) + b_output, name='y_hat_nn')\n",
    "# loss = tf.reduce_mean(\n",
    "#     -tf.reduce_sum(\n",
    "#         y * tf.log(y_hat+0.0000000000001), name='cross_entropy_nn', reduction_indices=1),\n",
    "#     name='mlp_loss')\n",
    "#accuracy = tf.reduce_mean(tf.to_float(tf.equal(tf.arg_max(y_hat, 1), tf.arg_max(y, 1))))\n",
    "#a = tf.summary.scalar(\"accuracy\", accuracy)\n",
    "#b = tf.summary.scalar(\"loss\", loss)\n",
    "#summaries = tf.summary.merge((a, b))"
   ]
  },
  {
   "cell_type": "code",
   "execution_count": 34,
   "metadata": {
    "ExecuteTime": {
     "end_time": "2018-05-02T12:07:24.181287Z",
     "start_time": "2018-05-02T12:03:31.608966Z"
    }
   },
   "outputs": [
    {
     "data": {
      "application/vnd.jupyter.widget-view+json": {
       "model_id": "8fb09de966e2488b8c0353f16bb1e616",
       "version_major": 2,
       "version_minor": 0
      },
      "text/plain": [
       "HBox(children=(IntProgress(value=0, description='Epoch:', max=200), HTML(value='')))"
      ]
     },
     "metadata": {},
     "output_type": "display_data"
    },
    {
     "name": "stdout",
     "output_type": "stream",
     "text": [
      "Epoch 0, training loss: 0.39895227746530015.\n",
      "Epoch 10, training loss: 0.2658638096126643.\n",
      "Epoch 20, training loss: 0.2553171923485669.\n",
      "Epoch 30, training loss: 0.2506874832240018.\n",
      "Epoch 40, training loss: 0.2469164595820687.\n",
      "Epoch 50, training loss: 0.2446584794602611.\n",
      "Epoch 60, training loss: 0.2422431962733919.\n",
      "Epoch 70, training loss: 0.23997521017085421.\n",
      "Epoch 80, training loss: 0.23875595593994314.\n",
      "Epoch 90, training loss: 0.23835829508575526.\n",
      "Epoch 100, training loss: 0.23599571956152265.\n",
      "Epoch 110, training loss: 0.2357209042527459.\n",
      "Epoch 120, training loss: 0.23442960083484649.\n",
      "Epoch 130, training loss: 0.2341477763585069.\n",
      "Epoch 140, training loss: 0.23343661056323484.\n",
      "Epoch 150, training loss: 0.23215122575109656.\n",
      "Epoch 160, training loss: 0.23206824881109325.\n",
      "Epoch 170, training loss: 0.23170465153726663.\n",
      "Epoch 180, training loss: 0.2310132924805988.\n",
      "Epoch 190, training loss: 0.23071875141425566.\n",
      "\n",
      "Test set loss: 0.2901495695114136\n",
      "CPU times: user 4min 50s, sys: 1min 22s, total: 6min 12s\n",
      "Wall time: 4h 13min 7s\n"
     ]
    }
   ],
   "source": [
    "%%time\n",
    "train_model_sgd_tensorboard(loss, learning_rate, batch_size, 200, summaries=summaries, tag='mlp-relu-2')"
   ]
  },
  {
   "cell_type": "markdown",
   "metadata": {},
   "source": [
    "<hr/>\n",
    "<div class=\"container-fluid\">\n",
    "      <div class=\"row\">\n",
    "          <div class=\"col-md-3\" align='center'>\n",
    "              <img align='center' alt=\"Creative Commons License\" style=\"border-width:0\" src=\"https://i.creativecommons.org/l/by-nc-sa/4.0/88x31.png\"/>\n",
    "          </div>\n",
    "          <div class=\"col-md-9\">\n",
    "              This work is licensed under a [Creative Commons Attribution-NonCommercial-ShareAlike 4.0 International License](http://creativecommons.org/licenses/by-nc-sa/4.0/).\n",
    "          </div>\n",
    "      </div>\n",
    "</div>\n",
    "\n",
    "### Acknowledgement\n",
    "\n",
    "This notebook uses some materials from Google's [TensorFlow Tutorial](https://www.tensorflow.org/tutorials/wide)."
   ]
  },
  {
   "cell_type": "code",
   "execution_count": 35,
   "metadata": {},
   "outputs": [
    {
     "data": {
      "text/html": [
       "<link href=\"https://fonts.googleapis.com/css?family=Fira+Sans:300,300i,600,600i\" rel=\"stylesheet\">\n",
       "<link href=\"https://fonts.googleapis.com/css?family=Inconsolata\" rel=\"stylesheet\">\n",
       "<link href=\"https://fonts.googleapis.com/css?family=Titillium+Web:400,400i,700,700i\" rel=\"stylesheet\">\n",
       "<style>\n",
       ".text_cell_render {\n",
       "font-style: regular;\n",
       "font-family: 'Fira Sans', sans-serif;\n",
       "display: block;\n",
       "}\n",
       "/*font-weight: 200;*/\n",
       "/*text-align: left;\n",
       "line-height: 100%;\n",
       "display: block;\n",
       "}*/\n",
       ".text_cell_render h1 {\n",
       "/*font-size: 24pt;*/\n",
       "font-family: 'Titillium Web', sans-serif;\n",
       "font-weight: bold;\n",
       "margin-bottom: 0.1em;\n",
       "margin-top: 0.5em;\n",
       "color:#4a4a4a;\n",
       "}\n",
       "\n",
       ".reveal h1 {\n",
       "font-family: 'Titillium Web', sans-serif;\n",
       "/*font-size: 24pt;*/\n",
       "font-weight: bold;\n",
       "margin-bottom: 0.1em;\n",
       "margin-top: 0.5em;\n",
       "color:#4a4a4a;\n",
       "}\n",
       ".text_cell_render h2 {\n",
       "/*font-size: 21pt;*/\n",
       "    font-family: 'Titillium Web', sans-serif;\n",
       "margin-bottom: 0.1em;\n",
       "margin-top: 0.3em;\n",
       "color:#595959;\n",
       "}\n",
       ".text_cell_render h3 {\n",
       "    font-family: 'Titillium Web', sans-serif;\n",
       "/*font-size: 19pt;*/\n",
       "margin-bottom: 0.1em;\n",
       "margin-top: 0.3em;\n",
       "color:#595959;\n",
       "}\n",
       ".text_cell_render h4 {\n",
       "    font-family: 'Titillium Web', sans-serif;\n",
       "/*font-size: 17pt;*/\n",
       "margin-bottom: 0.1em;\n",
       "margin-top: 0.3em;\n",
       "color:#595959;\n",
       "}\n",
       ".text_cell_render h5 {\n",
       "    font-family: 'Titillium Web', sans-serif;\n",
       "/*font-size: 15pt;*/\n",
       "margin-bottom: 0.1em;\n",
       "margin-top: 0.3em;\n",
       "color:#595959;\n",
       "}\n",
       "div.text_cell_render{\n",
       "line-height: 120%;\n",
       "font-size: 100%;\n",
       "font-weight: 400;\n",
       "text-align: justify;\n",
       "margin-left:0em;\n",
       "margin-right:0em;\n",
       "}\n",
       ".reveal div.text_cell_render{\n",
       "line-height: 120%;\n",
       "font-size: 74%;\n",
       "font-weight: 400;\n",
       "text-align: justify;\n",
       "margin-left:0em;\n",
       "margin-right:0em;\n",
       "}\n",
       "\n",
       ".reveal h2 {\n",
       "font-family: 'Titillium Web', sans-serif;\n",
       "/*font-size: 24pt;*/\n",
       "font-weight: bold;\n",
       "margin-bottom: 0.1em;\n",
       "margin-top: 0.5em;\n",
       "color:#595959;\n",
       "}\n",
       ".reveal h3 {\n",
       "font-family: 'Titillium Web', sans-serif;\n",
       "/*font-size: 24pt;*/\n",
       "font-weight: bold;\n",
       "margin-bottom: 0.1em;\n",
       "margin-top: 0.5em;\n",
       "color:#595959;\n",
       "}\n",
       ".reveal h4 {\n",
       "font-family: 'Titillium Web', sans-serif;\n",
       "font-weight: bold;\n",
       "margin-bottom: 0.1em;\n",
       "margin-top: 0.5em;\n",
       "color:#595959;\n",
       "}\n",
       ".reveal .code_cell {\n",
       "    font-size: 92%;\n",
       "}\n",
       ".reveal code {\n",
       "font-family: 'Inconsolata', monospace;\n",
       "}\n",
       ".reveal pre {\n",
       "font-family: 'Inconsolata', monospace;\n",
       "}\n",
       "code {\n",
       "font-family: 'Inconsolata', monospace;\n",
       "}\n",
       "pre {\n",
       "font-family: 'Inconsolata', monospace;\n",
       "}\n",
       ".CodeMirror{\n",
       "font-family: \"Inconsolata\", monospace;\n",
       "}\n",
       "</style>\n"
      ],
      "text/plain": [
       "<IPython.core.display.HTML object>"
      ]
     },
     "execution_count": 35,
     "metadata": {},
     "output_type": "execute_result"
    }
   ],
   "source": [
    "# this code is here for cosmetic reasons\n",
    "from IPython.core.display import HTML\n",
    "from urllib.request import urlopen\n",
    "HTML(urlopen('https://raw.githubusercontent.com/lmarti/jupyter_custom/master/custom.include').read().decode('utf-8'))"
   ]
  }
 ],
 "metadata": {
  "kernelspec": {
   "display_name": "Python 3",
   "language": "python",
   "name": "python3"
  },
  "language_info": {
   "codemirror_mode": {
    "name": "ipython",
    "version": 3
   },
   "file_extension": ".py",
   "mimetype": "text/x-python",
   "name": "python",
   "nbconvert_exporter": "python",
   "pygments_lexer": "ipython3",
   "version": "3.6.5"
  },
  "notify_time": "30",
  "varInspector": {
   "cols": {
    "lenName": 16,
    "lenType": 16,
    "lenVar": 40
   },
   "kernels_config": {
    "python": {
     "delete_cmd_postfix": "",
     "delete_cmd_prefix": "del ",
     "library": "var_list.py",
     "varRefreshCmd": "print(var_dic_list())"
    },
    "r": {
     "delete_cmd_postfix": ") ",
     "delete_cmd_prefix": "rm(",
     "library": "var_list.r",
     "varRefreshCmd": "cat(var_dic_list()) "
    }
   },
   "types_to_exclude": [
    "module",
    "function",
    "builtin_function_or_method",
    "instance",
    "_Feature"
   ],
   "window_display": false
  }
 },
 "nbformat": 4,
 "nbformat_minor": 2
}
